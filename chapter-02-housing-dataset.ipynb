{
 "cells": [
  {
   "cell_type": "markdown",
   "metadata": {},
   "source": [
    "# Doing Data Science: chapter 2 - Housing Dataset"
   ]
  },
  {
   "cell_type": "markdown",
   "metadata": {},
   "source": [
    "Python code for the exercise on the RealDirect study about the housing dataset (\"*improve the way people sell and buy houses*\").\n",
    "\n",
    "**Author**: Damien Garaud\n",
    "\n",
    "**Project on Github**: https://github.com/garaud/doing_pydata_science"
   ]
  },
  {
   "cell_type": "markdown",
   "metadata": {
    "collapsed": true
   },
   "source": [
    "## Getting Data "
   ]
  },
  {
   "cell_type": "markdown",
   "metadata": {},
   "source": [
    "Clone the official Github project at https://github.com/oreillymedia/doing_data_science and unzip the `dds_datasets.zip` file. You'll find a new ZIP file named `dds_chapter2_rollingsales.zip`. Then, you'll get five XLS files:\n",
    "\n",
    "- `rollingsales_bronx.xls`\n",
    "- `rollingsales_brooklyn.xls`\n",
    "- `rollingsales_manhattan.xls`\n",
    "- `rollingsales_queens.xls`\n",
    "- `rollingsales_statenisland.xls`\n",
    "\n",
    "**Note**: for each carried out task, I'll try to write a **function**. Functions are good."
   ]
  },
  {
   "cell_type": "markdown",
   "metadata": {},
   "source": [
    "## Modules"
   ]
  },
  {
   "cell_type": "code",
   "execution_count": 1,
   "metadata": {
    "collapsed": true
   },
   "outputs": [],
   "source": [
    "import pandas as pd"
   ]
  },
  {
   "cell_type": "code",
   "execution_count": 2,
   "metadata": {
    "collapsed": false
   },
   "outputs": [
    {
     "name": "stdout",
     "output_type": "stream",
     "text": [
      "0.17.1\n"
     ]
    }
   ],
   "source": [
    "print(pd.__version__)"
   ]
  },
  {
   "cell_type": "markdown",
   "metadata": {},
   "source": [
    "## Reading Data"
   ]
  },
  {
   "cell_type": "markdown",
   "metadata": {},
   "source": [
    "You continue to use pandas for XLS files reading. Suppose you have the `rollingsales_AREA.xls` files in the `data` directory.\n",
    "\n",
    "The relevant row number to extract header is the row no.5 (note: row spreadsheet begins to 1)."
   ]
  },
  {
   "cell_type": "code",
   "execution_count": 11,
   "metadata": {
    "collapsed": true
   },
   "outputs": [],
   "source": [
    "def read_data(fname):\n",
    "    \"\"\"Read data from an Excel file\n",
    "    \"\"\"\n",
    "    return pd.read_excel(fname, header=4)"
   ]
  },
  {
   "cell_type": "code",
   "execution_count": 18,
   "metadata": {
    "collapsed": true
   },
   "outputs": [],
   "source": [
    "brooklyn = read_data(\"./data/rollingsales_brooklyn.xls\")"
   ]
  },
  {
   "cell_type": "code",
   "execution_count": 4,
   "metadata": {
    "collapsed": false
   },
   "outputs": [
    {
     "name": "stdout",
     "output_type": "stream",
     "text": [
      "<class 'pandas.core.frame.DataFrame'>\n",
      "Int64Index: 23373 entries, 0 to 23372\n",
      "Data columns (total 21 columns):\n",
      "BOROUGH                           23373 non-null int64\n",
      "NEIGHBORHOOD                      23373 non-null object\n",
      "BUILDING CLASS CATEGORY           23373 non-null object\n",
      "TAX CLASS AT PRESENT              23373 non-null object\n",
      "BLOCK                             23373 non-null int64\n",
      "LOT                               23373 non-null int64\n",
      "EASE-MENT                         23373 non-null object\n",
      "BUILDING CLASS AT PRESENT         23373 non-null object\n",
      "ADDRESS                           23373 non-null object\n",
      "APART\n",
      "MENT\n",
      "NUMBER                 23373 non-null object\n",
      "ZIP CODE                          23373 non-null int64\n",
      "RESIDENTIAL UNITS                 23373 non-null int64\n",
      "COMMERCIAL UNITS                  23373 non-null int64\n",
      "TOTAL UNITS                       23373 non-null int64\n",
      "LAND SQUARE FEET                  23373 non-null int64\n",
      "GROSS SQUARE FEET                 23373 non-null int64\n",
      "YEAR BUILT                        23373 non-null int64\n",
      "TAX CLASS AT TIME OF SALE         23373 non-null int64\n",
      "BUILDING CLASS AT TIME OF SALE    23373 non-null object\n",
      "SALE\n",
      "PRICE                        23373 non-null int64\n",
      "SALE DATE                         23373 non-null datetime64[ns]\n",
      "dtypes: datetime64[ns](1), int64(12), object(8)\n",
      "memory usage: 3.9+ MB\n"
     ]
    }
   ],
   "source": [
    "brooklyn.info()"
   ]
  },
  {
   "cell_type": "markdown",
   "metadata": {},
   "source": [
    "21 columns and several different data"
   ]
  },
  {
   "cell_type": "markdown",
   "metadata": {},
   "source": [
    "## Load and Clean up"
   ]
  },
  {
   "cell_type": "markdown",
   "metadata": {},
   "source": [
    "Quoting: *First challenge: load in and clean up the data. Next, conduct\n",
    "exploratory data analysis in order to find out where there are\n",
    "outliers or missing values, decide how you will treat them, make\n",
    "sure the dates are formatted correctly, make sure values you\n",
    "think are numerical are being treated as such, etc.*"
   ]
  },
  {
   "cell_type": "markdown",
   "metadata": {},
   "source": [
    "Rename some column names (there some \\n)"
   ]
  },
  {
   "cell_type": "code",
   "execution_count": 16,
   "metadata": {
    "collapsed": true
   },
   "outputs": [],
   "source": [
    "def clean_columns(df):\n",
    "    \"\"\"Clean some columns name\n",
    "    \"\"\"\n",
    "    df.columns = [x.replace('\\n', ' ').lower() for x in df.columns]\n",
    "    return df.rename_axis({'apart ment number': 'apartment number'}, axis=1)\n",
    "    \n",
    "def missing_string(df, colnames):\n",
    "    \"\"\"Strip content and fill empty string with NaN\n",
    "    \"\"\"\n",
    "    df = df.copy()\n",
    "    for col in colnames:\n",
    "        df[col] = df[col].str.strip().apply(lambda x: 'NaN' if not x else x)\n",
    "    return df"
   ]
  },
  {
   "cell_type": "code",
   "execution_count": 6,
   "metadata": {
    "collapsed": false
   },
   "outputs": [
    {
     "name": "stdout",
     "output_type": "stream",
     "text": [
      "<class 'pandas.core.frame.DataFrame'>\n",
      "Int64Index: 23373 entries, 0 to 23372\n",
      "Data columns (total 21 columns):\n",
      "borough                           23373 non-null int64\n",
      "neighborhood                      23373 non-null object\n",
      "building class category           23373 non-null object\n",
      "tax class at present              23373 non-null object\n",
      "block                             23373 non-null int64\n",
      "lot                               23373 non-null int64\n",
      "ease-ment                         23373 non-null object\n",
      "building class at present         23373 non-null object\n",
      "address                           23373 non-null object\n",
      "apart ment number                 23373 non-null object\n",
      "zip code                          23373 non-null int64\n",
      "residential units                 23373 non-null int64\n",
      "commercial units                  23373 non-null int64\n",
      "total units                       23373 non-null int64\n",
      "land square feet                  23373 non-null int64\n",
      "gross square feet                 23373 non-null int64\n",
      "year built                        23373 non-null int64\n",
      "tax class at time of sale         23373 non-null int64\n",
      "building class at time of sale    23373 non-null object\n",
      "sale price                        23373 non-null int64\n",
      "sale date                         23373 non-null datetime64[ns]\n",
      "dtypes: datetime64[ns](1), int64(12), object(8)\n",
      "memory usage: 3.9+ MB\n"
     ]
    }
   ],
   "source": [
    "brooklyn.info()"
   ]
  },
  {
   "cell_type": "markdown",
   "metadata": {},
   "source": [
    "Column `apart ment number` sounds strange and this is an object (i.e. a string). Rename it and check if it can be integers.\n",
    "\n",
    "**update** the clean columns function."
   ]
  },
  {
   "cell_type": "code",
   "execution_count": 19,
   "metadata": {
    "collapsed": false
   },
   "outputs": [],
   "source": [
    "brooklyn = clean_columns(brooklyn)"
   ]
  },
  {
   "cell_type": "code",
   "execution_count": 20,
   "metadata": {
    "collapsed": false
   },
   "outputs": [
    {
     "data": {
      "text/plain": [
       "4824                 \n",
       "4223                 \n",
       "21382    4C          \n",
       "13851                \n",
       "18186                \n",
       "7375                 \n",
       "99                   \n",
       "7579                 \n",
       "6079                 \n",
       "6935                 \n",
       "Name: apartment number, dtype: object"
      ]
     },
     "execution_count": 20,
     "metadata": {},
     "output_type": "execute_result"
    }
   ],
   "source": [
    "brooklyn['apartment number'].sample(10)"
   ]
  },
  {
   "cell_type": "markdown",
   "metadata": {},
   "source": [
    "OK, sometimes, you can have two digits or one digits and letters. We can normalize that, i.e. discard some trailing whitespaces. And replace every empty string by 'NaN'."
   ]
  },
  {
   "cell_type": "code",
   "execution_count": 22,
   "metadata": {
    "collapsed": false
   },
   "outputs": [],
   "source": [
    "brooklyn = missing_string(brooklyn, ['apartment number'])"
   ]
  },
  {
   "cell_type": "markdown",
   "metadata": {},
   "source": [
    "Let's see if you have other string field with the same issues"
   ]
  },
  {
   "cell_type": "code",
   "execution_count": null,
   "metadata": {
    "collapsed": true
   },
   "outputs": [],
   "source": []
  }
 ],
 "metadata": {
  "kernelspec": {
   "display_name": "Python 2",
   "language": "python",
   "name": "python2"
  },
  "language_info": {
   "codemirror_mode": {
    "name": "ipython",
    "version": 2
   },
   "file_extension": ".py",
   "mimetype": "text/x-python",
   "name": "python",
   "nbconvert_exporter": "python",
   "pygments_lexer": "ipython2",
   "version": "2.7.11"
  }
 },
 "nbformat": 4,
 "nbformat_minor": 0
}
