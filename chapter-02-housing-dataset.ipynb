{
 "cells": [
  {
   "cell_type": "markdown",
   "metadata": {},
   "source": [
    "# Doing Data Science: chapter 2 - Housing Dataset"
   ]
  },
  {
   "cell_type": "markdown",
   "metadata": {},
   "source": [
    "Python code for the exercise on the RealDirect study about the housing dataset (\"*improve the way people sell and buy houses*\").\n",
    "\n",
    "**Author**: Damien Garaud\n",
    "\n",
    "**Project on Github**: https://github.com/garaud/doing_pydata_science"
   ]
  },
  {
   "cell_type": "markdown",
   "metadata": {
    "collapsed": true
   },
   "source": [
    "## Getting Data "
   ]
  },
  {
   "cell_type": "markdown",
   "metadata": {},
   "source": [
    "Clone the official Github project at https://github.com/oreillymedia/doing_data_science and unzip the `dds_datasets.zip` file. You'll find a new ZIP file named `dds_chapter2_rollingsales.zip`. Then, you'll get five XLS files:\n",
    "\n",
    "- `rollingsales_bronx.xls`\n",
    "- `rollingsales_brooklyn.xls`\n",
    "- `rollingsales_manhattan.xls`\n",
    "- `rollingsales_queens.xls`\n",
    "- `rollingsales_statenisland.xls`\n",
    "\n",
    "**Note**: for each carried out task, I'll try to write a **function**. Functions are good."
   ]
  },
  {
   "cell_type": "markdown",
   "metadata": {},
   "source": [
    "## Modules"
   ]
  },
  {
   "cell_type": "code",
   "execution_count": 1,
   "metadata": {
    "collapsed": true
   },
   "outputs": [],
   "source": [
    "import pandas as pd"
   ]
  },
  {
   "cell_type": "code",
   "execution_count": 2,
   "metadata": {
    "collapsed": false
   },
   "outputs": [
    {
     "name": "stdout",
     "output_type": "stream",
     "text": [
      "0.18.0\n"
     ]
    }
   ],
   "source": [
    "print(pd.__version__)"
   ]
  },
  {
   "cell_type": "markdown",
   "metadata": {},
   "source": [
    "## Reading Data"
   ]
  },
  {
   "cell_type": "markdown",
   "metadata": {},
   "source": [
    "You continue to use pandas for XLS files reading. Suppose you have the `rollingsales_AREA.xls` files in the `data` directory.\n",
    "\n",
    "The relevant row number to extract header is the row no.5 (note: row spreadsheet begins to 1)."
   ]
  },
  {
   "cell_type": "code",
   "execution_count": 3,
   "metadata": {
    "collapsed": true
   },
   "outputs": [],
   "source": [
    "def read_data(fname):\n",
    "    \"\"\"Read data from an Excel file\n",
    "    \"\"\"\n",
    "    return pd.read_excel(fname, header=4)"
   ]
  },
  {
   "cell_type": "code",
   "execution_count": 4,
   "metadata": {
    "collapsed": false
   },
   "outputs": [],
   "source": [
    "brooklyn = read_data(\"./data/rollingsales_brooklyn.xls\")"
   ]
  },
  {
   "cell_type": "code",
   "execution_count": 5,
   "metadata": {
    "collapsed": false
   },
   "outputs": [
    {
     "name": "stdout",
     "output_type": "stream",
     "text": [
      "<class 'pandas.core.frame.DataFrame'>\n",
      "RangeIndex: 23373 entries, 0 to 23372\n",
      "Data columns (total 21 columns):\n",
      "BOROUGH                           23373 non-null int64\n",
      "NEIGHBORHOOD                      23373 non-null object\n",
      "BUILDING CLASS CATEGORY           23373 non-null object\n",
      "TAX CLASS AT PRESENT              23373 non-null object\n",
      "BLOCK                             23373 non-null int64\n",
      "LOT                               23373 non-null int64\n",
      "EASE-MENT                         23373 non-null object\n",
      "BUILDING CLASS AT PRESENT         23373 non-null object\n",
      "ADDRESS                           23373 non-null object\n",
      "APART\n",
      "MENT\n",
      "NUMBER                 23373 non-null object\n",
      "ZIP CODE                          23373 non-null int64\n",
      "RESIDENTIAL UNITS                 23373 non-null int64\n",
      "COMMERCIAL UNITS                  23373 non-null int64\n",
      "TOTAL UNITS                       23373 non-null int64\n",
      "LAND SQUARE FEET                  23373 non-null int64\n",
      "GROSS SQUARE FEET                 23373 non-null int64\n",
      "YEAR BUILT                        23373 non-null int64\n",
      "TAX CLASS AT TIME OF SALE         23373 non-null int64\n",
      "BUILDING CLASS AT TIME OF SALE    23373 non-null object\n",
      "SALE\n",
      "PRICE                        23373 non-null int64\n",
      "SALE DATE                         23373 non-null datetime64[ns]\n",
      "dtypes: datetime64[ns](1), int64(12), object(8)\n",
      "memory usage: 3.7+ MB\n"
     ]
    }
   ],
   "source": [
    "brooklyn.info()"
   ]
  },
  {
   "cell_type": "markdown",
   "metadata": {},
   "source": [
    "21 columns and several different data"
   ]
  },
  {
   "cell_type": "markdown",
   "metadata": {},
   "source": [
    "## Load and Clean up"
   ]
  },
  {
   "cell_type": "markdown",
   "metadata": {},
   "source": [
    "Quoting: *First challenge: load in and clean up the data. Next, conduct\n",
    "exploratory data analysis in order to find out where there are\n",
    "outliers or missing values, decide how you will treat them, make\n",
    "sure the dates are formatted correctly, make sure values you\n",
    "think are numerical are being treated as such, etc.*"
   ]
  },
  {
   "cell_type": "markdown",
   "metadata": {},
   "source": [
    "Rename some column names (there some \\n)"
   ]
  },
  {
   "cell_type": "code",
   "execution_count": 6,
   "metadata": {
    "collapsed": true
   },
   "outputs": [],
   "source": [
    "def clean_columns(df):\n",
    "    \"\"\"Clean some columns name\n",
    "    \"\"\"\n",
    "    df.columns = [x.replace('\\n', ' ').lower() for x in df.columns]\n",
    "    return df.rename_axis({'apart ment number': 'apartment number'}, axis=1)\n",
    "    \n",
    "def missing_string(df, colnames):\n",
    "    \"\"\"Strip content and fill empty string with NaN\n",
    "    \"\"\"\n",
    "    df = df.copy()\n",
    "    for col in colnames:\n",
    "        df[col] = df[col].str.strip().apply(lambda x: 'NaN' if not x else x)\n",
    "    return df"
   ]
  },
  {
   "cell_type": "markdown",
   "metadata": {},
   "source": [
    "Column `apart ment number` sounds strange and this is an object (i.e. a string). Rename it and check if it can be integers.\n",
    "\n",
    "**update** the clean columns function."
   ]
  },
  {
   "cell_type": "code",
   "execution_count": 7,
   "metadata": {
    "collapsed": false
   },
   "outputs": [],
   "source": [
    "brooklyn = clean_columns(brooklyn)"
   ]
  },
  {
   "cell_type": "code",
   "execution_count": 9,
   "metadata": {
    "collapsed": false
   },
   "outputs": [
    {
     "name": "stdout",
     "output_type": "stream",
     "text": [
      "<class 'pandas.core.frame.DataFrame'>\n",
      "RangeIndex: 23373 entries, 0 to 23372\n",
      "Data columns (total 21 columns):\n",
      "borough                           23373 non-null int64\n",
      "neighborhood                      23373 non-null object\n",
      "building class category           23373 non-null object\n",
      "tax class at present              23373 non-null object\n",
      "block                             23373 non-null int64\n",
      "lot                               23373 non-null int64\n",
      "ease-ment                         23373 non-null object\n",
      "building class at present         23373 non-null object\n",
      "address                           23373 non-null object\n",
      "apartment number                  23373 non-null object\n",
      "zip code                          23373 non-null int64\n",
      "residential units                 23373 non-null int64\n",
      "commercial units                  23373 non-null int64\n",
      "total units                       23373 non-null int64\n",
      "land square feet                  23373 non-null int64\n",
      "gross square feet                 23373 non-null int64\n",
      "year built                        23373 non-null int64\n",
      "tax class at time of sale         23373 non-null int64\n",
      "building class at time of sale    23373 non-null object\n",
      "sale price                        23373 non-null int64\n",
      "sale date                         23373 non-null datetime64[ns]\n",
      "dtypes: datetime64[ns](1), int64(12), object(8)\n",
      "memory usage: 3.7+ MB\n"
     ]
    }
   ],
   "source": [
    "brooklyn.info()"
   ]
  },
  {
   "cell_type": "code",
   "execution_count": 20,
   "metadata": {
    "collapsed": false
   },
   "outputs": [
    {
     "data": {
      "text/plain": [
       "4824                 \n",
       "4223                 \n",
       "21382    4C          \n",
       "13851                \n",
       "18186                \n",
       "7375                 \n",
       "99                   \n",
       "7579                 \n",
       "6079                 \n",
       "6935                 \n",
       "Name: apartment number, dtype: object"
      ]
     },
     "execution_count": 20,
     "metadata": {},
     "output_type": "execute_result"
    }
   ],
   "source": [
    "brooklyn['apartment number'].sample(10)"
   ]
  },
  {
   "cell_type": "markdown",
   "metadata": {},
   "source": [
    "OK, sometimes, you can have two digits or one digits and letters. We can normalize that, i.e. discard some trailing whitespaces. And replace every empty string by 'NaN'."
   ]
  },
  {
   "cell_type": "code",
   "execution_count": 10,
   "metadata": {
    "collapsed": false
   },
   "outputs": [],
   "source": [
    "brooklyn = missing_string(brooklyn, ['apartment number'])"
   ]
  },
  {
   "cell_type": "markdown",
   "metadata": {},
   "source": [
    "Let's see if you have other string field with the same issues"
   ]
  },
  {
   "cell_type": "code",
   "execution_count": 12,
   "metadata": {
    "collapsed": false
   },
   "outputs": [
    {
     "data": {
      "text/plain": [
       "2024     NaN\n",
       "8121     NaN\n",
       "20948    NaN\n",
       "13587    NaN\n",
       "19512    NaN\n",
       "19236     8B\n",
       "4016     NaN\n",
       "20470    NaN\n",
       "10353    NaN\n",
       "1305     NaN\n",
       "Name: apartment number, dtype: object"
      ]
     },
     "execution_count": 12,
     "metadata": {},
     "output_type": "execute_result"
    }
   ],
   "source": [
    "brooklyn['apartment number'].sample(10)"
   ]
  },
  {
   "cell_type": "code",
   "execution_count": 13,
   "metadata": {
    "collapsed": false
   },
   "outputs": [
    {
     "name": "stdout",
     "output_type": "stream",
     "text": [
      "<class 'pandas.core.frame.DataFrame'>\n",
      "RangeIndex: 23373 entries, 0 to 23372\n",
      "Data columns (total 21 columns):\n",
      "borough                           23373 non-null int64\n",
      "neighborhood                      23373 non-null object\n",
      "building class category           23373 non-null object\n",
      "tax class at present              23373 non-null object\n",
      "block                             23373 non-null int64\n",
      "lot                               23373 non-null int64\n",
      "ease-ment                         23373 non-null object\n",
      "building class at present         23373 non-null object\n",
      "address                           23373 non-null object\n",
      "apartment number                  21744 non-null object\n",
      "zip code                          23373 non-null int64\n",
      "residential units                 23373 non-null int64\n",
      "commercial units                  23373 non-null int64\n",
      "total units                       23373 non-null int64\n",
      "land square feet                  23373 non-null int64\n",
      "gross square feet                 23373 non-null int64\n",
      "year built                        23373 non-null int64\n",
      "tax class at time of sale         23373 non-null int64\n",
      "building class at time of sale    23373 non-null object\n",
      "sale price                        23373 non-null int64\n",
      "sale date                         23373 non-null datetime64[ns]\n",
      "dtypes: datetime64[ns](1), int64(12), object(8)\n",
      "memory usage: 3.7+ MB\n"
     ]
    }
   ],
   "source": [
    "brooklyn.info()"
   ]
  },
  {
   "cell_type": "markdown",
   "metadata": {},
   "source": [
    "WARNING: a `0` value can occur in the \"Year built\" column."
   ]
  },
  {
   "cell_type": "markdown",
   "metadata": {},
   "source": [
    "### Type of Columns\n",
    "\n",
    "Are integer and string columns qualitative or sequential data?\n",
    "\n",
    "* Districts or zipcodes could be qualitative data\n",
    "* Years or prices could be sequential data (i.e. you can sort them)"
   ]
  },
  {
   "cell_type": "code",
   "execution_count": 20,
   "metadata": {
    "collapsed": true
   },
   "outputs": [],
   "source": [
    "def number_unique_values(data):\n",
    "    \"\"\"Count the number of unique values for each column\n",
    "    \n",
    "    Return a DataFrame with the name of the columns, the type and the number of unique values\n",
    "    \"\"\"\n",
    "    res = pd.DataFrame([(name, data[name].dtype.name, data[name].nunique()) for name in data],\n",
    "                      columns=['name', 'type', 'number'])\n",
    "    return res.sort_values(by=['type', 'number'])"
   ]
  },
  {
   "cell_type": "code",
   "execution_count": 21,
   "metadata": {
    "collapsed": false
   },
   "outputs": [],
   "source": [
    "nuniq = number_unique_values(brooklyn)"
   ]
  },
  {
   "cell_type": "code",
   "execution_count": 22,
   "metadata": {
    "collapsed": false
   },
   "outputs": [
    {
     "data": {
      "text/html": [
       "<div>\n",
       "<table border=\"1\" class=\"dataframe\">\n",
       "  <thead>\n",
       "    <tr style=\"text-align: right;\">\n",
       "      <th></th>\n",
       "      <th>name</th>\n",
       "      <th>type</th>\n",
       "      <th>number</th>\n",
       "    </tr>\n",
       "  </thead>\n",
       "  <tbody>\n",
       "    <tr>\n",
       "      <th>20</th>\n",
       "      <td>sale date</td>\n",
       "      <td>datetime64[ns]</td>\n",
       "      <td>373</td>\n",
       "    </tr>\n",
       "    <tr>\n",
       "      <th>0</th>\n",
       "      <td>borough</td>\n",
       "      <td>int64</td>\n",
       "      <td>1</td>\n",
       "    </tr>\n",
       "    <tr>\n",
       "      <th>17</th>\n",
       "      <td>tax class at time of sale</td>\n",
       "      <td>int64</td>\n",
       "      <td>4</td>\n",
       "    </tr>\n",
       "    <tr>\n",
       "      <th>12</th>\n",
       "      <td>commercial units</td>\n",
       "      <td>int64</td>\n",
       "      <td>27</td>\n",
       "    </tr>\n",
       "    <tr>\n",
       "      <th>10</th>\n",
       "      <td>zip code</td>\n",
       "      <td>int64</td>\n",
       "      <td>41</td>\n",
       "    </tr>\n",
       "    <tr>\n",
       "      <th>11</th>\n",
       "      <td>residential units</td>\n",
       "      <td>int64</td>\n",
       "      <td>91</td>\n",
       "    </tr>\n",
       "    <tr>\n",
       "      <th>13</th>\n",
       "      <td>total units</td>\n",
       "      <td>int64</td>\n",
       "      <td>96</td>\n",
       "    </tr>\n",
       "    <tr>\n",
       "      <th>16</th>\n",
       "      <td>year built</td>\n",
       "      <td>int64</td>\n",
       "      <td>145</td>\n",
       "    </tr>\n",
       "    <tr>\n",
       "      <th>5</th>\n",
       "      <td>lot</td>\n",
       "      <td>int64</td>\n",
       "      <td>1134</td>\n",
       "    </tr>\n",
       "    <tr>\n",
       "      <th>14</th>\n",
       "      <td>land square feet</td>\n",
       "      <td>int64</td>\n",
       "      <td>2552</td>\n",
       "    </tr>\n",
       "    <tr>\n",
       "      <th>15</th>\n",
       "      <td>gross square feet</td>\n",
       "      <td>int64</td>\n",
       "      <td>3311</td>\n",
       "    </tr>\n",
       "    <tr>\n",
       "      <th>19</th>\n",
       "      <td>sale price</td>\n",
       "      <td>int64</td>\n",
       "      <td>3318</td>\n",
       "    </tr>\n",
       "    <tr>\n",
       "      <th>4</th>\n",
       "      <td>block</td>\n",
       "      <td>int64</td>\n",
       "      <td>5455</td>\n",
       "    </tr>\n",
       "    <tr>\n",
       "      <th>6</th>\n",
       "      <td>ease-ment</td>\n",
       "      <td>object</td>\n",
       "      <td>1</td>\n",
       "    </tr>\n",
       "    <tr>\n",
       "      <th>3</th>\n",
       "      <td>tax class at present</td>\n",
       "      <td>object</td>\n",
       "      <td>11</td>\n",
       "    </tr>\n",
       "    <tr>\n",
       "      <th>2</th>\n",
       "      <td>building class category</td>\n",
       "      <td>object</td>\n",
       "      <td>38</td>\n",
       "    </tr>\n",
       "    <tr>\n",
       "      <th>1</th>\n",
       "      <td>neighborhood</td>\n",
       "      <td>object</td>\n",
       "      <td>63</td>\n",
       "    </tr>\n",
       "    <tr>\n",
       "      <th>18</th>\n",
       "      <td>building class at time of sale</td>\n",
       "      <td>object</td>\n",
       "      <td>131</td>\n",
       "    </tr>\n",
       "    <tr>\n",
       "      <th>7</th>\n",
       "      <td>building class at present</td>\n",
       "      <td>object</td>\n",
       "      <td>132</td>\n",
       "    </tr>\n",
       "    <tr>\n",
       "      <th>9</th>\n",
       "      <td>apartment number</td>\n",
       "      <td>object</td>\n",
       "      <td>1286</td>\n",
       "    </tr>\n",
       "    <tr>\n",
       "      <th>8</th>\n",
       "      <td>address</td>\n",
       "      <td>object</td>\n",
       "      <td>18465</td>\n",
       "    </tr>\n",
       "  </tbody>\n",
       "</table>\n",
       "</div>"
      ],
      "text/plain": [
       "                              name            type  number\n",
       "20                       sale date  datetime64[ns]     373\n",
       "0                          borough           int64       1\n",
       "17       tax class at time of sale           int64       4\n",
       "12                commercial units           int64      27\n",
       "10                        zip code           int64      41\n",
       "11               residential units           int64      91\n",
       "13                     total units           int64      96\n",
       "16                      year built           int64     145\n",
       "5                              lot           int64    1134\n",
       "14                land square feet           int64    2552\n",
       "15               gross square feet           int64    3311\n",
       "19                      sale price           int64    3318\n",
       "4                            block           int64    5455\n",
       "6                        ease-ment          object       1\n",
       "3             tax class at present          object      11\n",
       "2          building class category          object      38\n",
       "1                     neighborhood          object      63\n",
       "18  building class at time of sale          object     131\n",
       "7        building class at present          object     132\n",
       "9                 apartment number          object    1286\n",
       "8                          address          object   18465"
      ]
     },
     "execution_count": 22,
     "metadata": {},
     "output_type": "execute_result"
    }
   ],
   "source": [
    "nuniq"
   ]
  },
  {
   "cell_type": "markdown",
   "metadata": {},
   "source": [
    "**Note** that *most of the time*, `object` type means `string`."
   ]
  },
  {
   "cell_type": "markdown",
   "metadata": {},
   "source": [
    "When you have a small number of unique values in comparison with the number of rows, it could be qualitative data."
   ]
  },
  {
   "cell_type": "markdown",
   "metadata": {},
   "source": [
    "For a predictive model, the columns with a unique value are irrelevant."
   ]
  },
  {
   "cell_type": "markdown",
   "metadata": {},
   "source": [
    "### Crazy Values"
   ]
  },
  {
   "cell_type": "markdown",
   "metadata": {},
   "source": [
    "Data are always messed up. Check if some integer/float columns contain some crazy values, e.g. -999 for a positive float or 0 for years..."
   ]
  },
  {
   "cell_type": "code",
   "execution_count": 25,
   "metadata": {
    "collapsed": true
   },
   "outputs": [],
   "source": [
    "def range_columns(data):\n",
    "    \"\"\"Min/max values for each integer columns\n",
    "    \"\"\"\n",
    "    intcols = data.dtypes[data.dtypes == 'int64'].index.tolist()\n",
    "    res = data[intcols].describe().T\n",
    "    return res[[\"min\", \"50%\", \"max\", \"mean\"]]"
   ]
  },
  {
   "cell_type": "code",
   "execution_count": 28,
   "metadata": {
    "collapsed": false
   },
   "outputs": [
    {
     "data": {
      "text/html": [
       "<div>\n",
       "<table border=\"1\" class=\"dataframe\">\n",
       "  <thead>\n",
       "    <tr style=\"text-align: right;\">\n",
       "      <th></th>\n",
       "      <th>min</th>\n",
       "      <th>50%</th>\n",
       "      <th>max</th>\n",
       "      <th>mean</th>\n",
       "    </tr>\n",
       "  </thead>\n",
       "  <tbody>\n",
       "    <tr>\n",
       "      <th>borough</th>\n",
       "      <td>3.0</td>\n",
       "      <td>3.0</td>\n",
       "      <td>3.0</td>\n",
       "      <td>3.000000</td>\n",
       "    </tr>\n",
       "    <tr>\n",
       "      <th>block</th>\n",
       "      <td>20.0</td>\n",
       "      <td>3839.0</td>\n",
       "      <td>8955.0</td>\n",
       "      <td>3984.270312</td>\n",
       "    </tr>\n",
       "    <tr>\n",
       "      <th>lot</th>\n",
       "      <td>1.0</td>\n",
       "      <td>48.0</td>\n",
       "      <td>9039.0</td>\n",
       "      <td>305.441064</td>\n",
       "    </tr>\n",
       "    <tr>\n",
       "      <th>zip code</th>\n",
       "      <td>0.0</td>\n",
       "      <td>11218.0</td>\n",
       "      <td>11416.0</td>\n",
       "      <td>11211.478929</td>\n",
       "    </tr>\n",
       "    <tr>\n",
       "      <th>residential units</th>\n",
       "      <td>0.0</td>\n",
       "      <td>1.0</td>\n",
       "      <td>509.0</td>\n",
       "      <td>2.155864</td>\n",
       "    </tr>\n",
       "    <tr>\n",
       "      <th>commercial units</th>\n",
       "      <td>0.0</td>\n",
       "      <td>0.0</td>\n",
       "      <td>222.0</td>\n",
       "      <td>0.197322</td>\n",
       "    </tr>\n",
       "    <tr>\n",
       "      <th>total units</th>\n",
       "      <td>0.0</td>\n",
       "      <td>1.0</td>\n",
       "      <td>509.0</td>\n",
       "      <td>2.369700</td>\n",
       "    </tr>\n",
       "    <tr>\n",
       "      <th>land square feet</th>\n",
       "      <td>0.0</td>\n",
       "      <td>1850.0</td>\n",
       "      <td>7446955.0</td>\n",
       "      <td>3558.953408</td>\n",
       "    </tr>\n",
       "    <tr>\n",
       "      <th>gross square feet</th>\n",
       "      <td>0.0</td>\n",
       "      <td>1760.0</td>\n",
       "      <td>2548000.0</td>\n",
       "      <td>3005.279896</td>\n",
       "    </tr>\n",
       "    <tr>\n",
       "      <th>year built</th>\n",
       "      <td>0.0</td>\n",
       "      <td>1925.0</td>\n",
       "      <td>2013.0</td>\n",
       "      <td>1681.096436</td>\n",
       "    </tr>\n",
       "    <tr>\n",
       "      <th>tax class at time of sale</th>\n",
       "      <td>1.0</td>\n",
       "      <td>1.0</td>\n",
       "      <td>4.0</td>\n",
       "      <td>1.704659</td>\n",
       "    </tr>\n",
       "    <tr>\n",
       "      <th>sale price</th>\n",
       "      <td>0.0</td>\n",
       "      <td>250000.0</td>\n",
       "      <td>276947000.0</td>\n",
       "      <td>528384.726693</td>\n",
       "    </tr>\n",
       "  </tbody>\n",
       "</table>\n",
       "</div>"
      ],
      "text/plain": [
       "                            min       50%          max           mean\n",
       "borough                     3.0       3.0          3.0       3.000000\n",
       "block                      20.0    3839.0       8955.0    3984.270312\n",
       "lot                         1.0      48.0       9039.0     305.441064\n",
       "zip code                    0.0   11218.0      11416.0   11211.478929\n",
       "residential units           0.0       1.0        509.0       2.155864\n",
       "commercial units            0.0       0.0        222.0       0.197322\n",
       "total units                 0.0       1.0        509.0       2.369700\n",
       "land square feet            0.0    1850.0    7446955.0    3558.953408\n",
       "gross square feet           0.0    1760.0    2548000.0    3005.279896\n",
       "year built                  0.0    1925.0       2013.0    1681.096436\n",
       "tax class at time of sale   1.0       1.0          4.0       1.704659\n",
       "sale price                  0.0  250000.0  276947000.0  528384.726693"
      ]
     },
     "execution_count": 28,
     "metadata": {},
     "output_type": "execute_result"
    }
   ],
   "source": [
    "range_columns(brooklyn)"
   ]
  },
  {
   "cell_type": "markdown",
   "metadata": {},
   "source": [
    "zip code, sale price or year equal to `0` is quite strange!"
   ]
  },
  {
   "cell_type": "code",
   "execution_count": null,
   "metadata": {
    "collapsed": true
   },
   "outputs": [],
   "source": []
  }
 ],
 "metadata": {
  "kernelspec": {
   "display_name": "Python 3",
   "language": "python",
   "name": "python3"
  },
  "language_info": {
   "codemirror_mode": {
    "name": "ipython",
    "version": 3
   },
   "file_extension": ".py",
   "mimetype": "text/x-python",
   "name": "python",
   "nbconvert_exporter": "python",
   "pygments_lexer": "ipython3",
   "version": "3.5.1"
  }
 },
 "nbformat": 4,
 "nbformat_minor": 0
}
