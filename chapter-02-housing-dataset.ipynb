{
 "cells": [
  {
   "cell_type": "markdown",
   "metadata": {},
   "source": [
    "# Doing Data Science: chapter 2 - Housing Dataset"
   ]
  },
  {
   "cell_type": "markdown",
   "metadata": {},
   "source": [
    "Python code for the exercise on the RealDirect study about the housing dataset (\"*improve the way people sell and buy houses*\").\n",
    "\n",
    "**Author**: Damien Garaud\n",
    "\n",
    "**Project on Github**: https://github.com/garaud/doing_pydata_science"
   ]
  },
  {
   "cell_type": "markdown",
   "metadata": {
    "collapsed": true
   },
   "source": [
    "## Getting Data "
   ]
  },
  {
   "cell_type": "markdown",
   "metadata": {},
   "source": [
    "Clone the official Github project at https://github.com/oreillymedia/doing_data_science and unzip the `dds_datasets.zip` file. You'll find a new ZIP file named `dds_chapter2_rollingsales.zip`. Then, you'll get five XLS files:\n",
    "\n",
    "- `rollingsales_bronx.xls`\n",
    "- `rollingsales_brooklyn.xls`\n",
    "- `rollingsales_manhattan.xls`\n",
    "- `rollingsales_queens.xls`\n",
    "- `rollingsales_statenisland.xls`"
   ]
  },
  {
   "cell_type": "markdown",
   "metadata": {},
   "source": [
    "## Modules"
   ]
  },
  {
   "cell_type": "code",
   "execution_count": 1,
   "metadata": {
    "collapsed": true
   },
   "outputs": [],
   "source": [
    "import pandas as pd"
   ]
  },
  {
   "cell_type": "markdown",
   "metadata": {},
   "source": [
    "## Reading Data"
   ]
  },
  {
   "cell_type": "markdown",
   "metadata": {},
   "source": [
    "You continue to use pandas for XLS files reading. Suppose you have the `rollingsales_AREA.xls` files in the `data` directory.\n",
    "\n",
    "The relevant row number to extract header is the row no.5 (note: row spreadsheet begins to 1)."
   ]
  },
  {
   "cell_type": "code",
   "execution_count": 2,
   "metadata": {
    "collapsed": true
   },
   "outputs": [],
   "source": [
    "brooklyn = pd.read_excel(\"./data/rollingsales_brooklyn.xls\", header=4)"
   ]
  },
  {
   "cell_type": "code",
   "execution_count": 4,
   "metadata": {
    "collapsed": false
   },
   "outputs": [
    {
     "name": "stdout",
     "output_type": "stream",
     "text": [
      "<class 'pandas.core.frame.DataFrame'>\n",
      "Int64Index: 23373 entries, 0 to 23372\n",
      "Data columns (total 21 columns):\n",
      "BOROUGH                           23373 non-null int64\n",
      "NEIGHBORHOOD                      23373 non-null object\n",
      "BUILDING CLASS CATEGORY           23373 non-null object\n",
      "TAX CLASS AT PRESENT              23373 non-null object\n",
      "BLOCK                             23373 non-null int64\n",
      "LOT                               23373 non-null int64\n",
      "EASE-MENT                         23373 non-null object\n",
      "BUILDING CLASS AT PRESENT         23373 non-null object\n",
      "ADDRESS                           23373 non-null object\n",
      "APART\n",
      "MENT\n",
      "NUMBER                 23373 non-null object\n",
      "ZIP CODE                          23373 non-null int64\n",
      "RESIDENTIAL UNITS                 23373 non-null int64\n",
      "COMMERCIAL UNITS                  23373 non-null int64\n",
      "TOTAL UNITS                       23373 non-null int64\n",
      "LAND SQUARE FEET                  23373 non-null int64\n",
      "GROSS SQUARE FEET                 23373 non-null int64\n",
      "YEAR BUILT                        23373 non-null int64\n",
      "TAX CLASS AT TIME OF SALE         23373 non-null int64\n",
      "BUILDING CLASS AT TIME OF SALE    23373 non-null object\n",
      "SALE\n",
      "PRICE                        23373 non-null int64\n",
      "SALE DATE                         23373 non-null datetime64[ns]\n",
      "dtypes: datetime64[ns](1), int64(12), object(8)\n",
      "memory usage: 3.9+ MB\n"
     ]
    }
   ],
   "source": [
    "brooklyn.info()"
   ]
  },
  {
   "cell_type": "markdown",
   "metadata": {},
   "source": [
    "21 columns and several different data"
   ]
  },
  {
   "cell_type": "markdown",
   "metadata": {},
   "source": [
    "## Load and Clean up"
   ]
  },
  {
   "cell_type": "markdown",
   "metadata": {},
   "source": [
    "Quoting: *First challenge: load in and clean up the data. Next, conduct\n",
    "exploratory data analysis in order to find out where there are\n",
    "outliers or missing values, decide how you will treat them, make\n",
    "sure the dates are formatted correctly, make sure values you\n",
    "think are numerical are being treated as such, etc.*"
   ]
  }
 ],
 "metadata": {
  "kernelspec": {
   "display_name": "Python 2",
   "language": "python",
   "name": "python2"
  },
  "language_info": {
   "codemirror_mode": {
    "name": "ipython",
    "version": 2
   },
   "file_extension": ".py",
   "mimetype": "text/x-python",
   "name": "python",
   "nbconvert_exporter": "python",
   "pygments_lexer": "ipython2",
   "version": "2.7.11"
  }
 },
 "nbformat": 4,
 "nbformat_minor": 0
}
