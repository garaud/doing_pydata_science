{
 "metadata": {
  "name": "",
  "signature": "sha256:5692c0548518e6de3ef58e666d87d2c8b5660d7d59d0050583380d4c02cd5d64"
 },
 "nbformat": 3,
 "nbformat_minor": 0,
 "worksheets": [
  {
   "cells": [
    {
     "cell_type": "markdown",
     "metadata": {},
     "source": [
      "# Doing Data Science: chapter 2 -- EDA\n",
      "\n",
      "Exercise on **E**ploratory **D**ata **A**nalysis\n",
      "\n",
      "Get input data files from https://github.com/oreillymedia/doing_data_science or http://stat.columbia.edu/~rachel/nytN.csv where `N=[1, .., 31]`.\n"
     ]
    },
    {
     "cell_type": "markdown",
     "metadata": {},
     "source": [
      "## Retrieve some data\n",
      "\n",
      "Quoting:\n",
      "\n",
      "> Each file represents one (simulated) day's worth of ads shown and clicks recorded on the NY Times home page in May 2012"
     ]
    },
    {
     "cell_type": "code",
     "collapsed": false,
     "input": [
      "from __future__ import print_function \n",
      "from StringIO import StringIO"
     ],
     "language": "python",
     "metadata": {},
     "outputs": [],
     "prompt_number": 5
    },
    {
     "cell_type": "code",
     "collapsed": false,
     "input": [
      "import requests"
     ],
     "language": "python",
     "metadata": {},
     "outputs": [],
     "prompt_number": 3
    },
    {
     "cell_type": "code",
     "collapsed": false,
     "input": [
      "URL = 'http://stat.columbia.edu/~rachel/datasets/nyt1.csv'"
     ],
     "language": "python",
     "metadata": {},
     "outputs": [],
     "prompt_number": 4
    },
    {
     "cell_type": "code",
     "collapsed": true,
     "input": [
      "resp = requests.get(URL)"
     ],
     "language": "python",
     "metadata": {},
     "outputs": [],
     "prompt_number": 6
    },
    {
     "cell_type": "markdown",
     "metadata": {},
     "source": [
      "Save it to a CSV file."
     ]
    },
    {
     "cell_type": "code",
     "collapsed": false,
     "input": [
      "with open('nyt1.csv', 'w') as fid:\n",
      "    fid.write(resp.content)"
     ],
     "language": "python",
     "metadata": {},
     "outputs": [],
     "prompt_number": 10
    },
    {
     "cell_type": "code",
     "collapsed": false,
     "input": [
      "!ls *.csv"
     ],
     "language": "python",
     "metadata": {},
     "outputs": [
      {
       "output_type": "stream",
       "stream": "stdout",
       "text": [
        "nyt1.csv\r\n"
       ]
      }
     ],
     "prompt_number": 26
    },
    {
     "cell_type": "code",
     "collapsed": false,
     "input": [
      "!head nyt1.csv"
     ],
     "language": "python",
     "metadata": {},
     "outputs": [
      {
       "output_type": "stream",
       "stream": "stdout",
       "text": [
        "\"Age\",\"Gender\",\"Impressions\",\"Clicks\",\"Signed_In\"\r\n",
        "36,0,3,0,1\r\n",
        "73,1,3,0,1\r\n",
        "30,0,3,0,1\r\n",
        "49,1,3,0,1\r\n",
        "47,1,11,0,1\r\n",
        "47,0,11,1,1\r\n",
        "0,0,7,1,0\r\n",
        "46,0,5,0,1\r\n",
        "16,0,3,0,1\r\n"
       ]
      }
     ],
     "prompt_number": 12
    },
    {
     "cell_type": "markdown",
     "metadata": {},
     "source": [
      "##\u00a0Extract data with pandas"
     ]
    },
    {
     "cell_type": "code",
     "collapsed": false,
     "input": [
      "import numpy as np\n",
      "import pandas as pd\n",
      "import matplotlib.pyplot as plt\n",
      "print(\"pandas version {}\".format(pd.__version__))"
     ],
     "language": "python",
     "metadata": {},
     "outputs": [
      {
       "output_type": "stream",
       "stream": "stdout",
       "text": [
        "pandas version 0.15.2\n"
       ]
      }
     ],
     "prompt_number": 7
    },
    {
     "cell_type": "markdown",
     "metadata": {},
     "source": [
      "For a matplotlib version >= 1.4, you can use `plt.style.use(\"ggplot\")`"
     ]
    },
    {
     "cell_type": "code",
     "collapsed": false,
     "input": [
      "plt.style.use(\"ggplot\")\n",
      "# pd.options.display.mpl_style = \"default\""
     ],
     "language": "python",
     "metadata": {},
     "outputs": [],
     "prompt_number": 8
    },
    {
     "cell_type": "code",
     "collapsed": false,
     "input": [
      "# Read the file or the 'content'\n",
      "df = pd.read_csv(StringIO(resp.content))"
     ],
     "language": "python",
     "metadata": {},
     "outputs": [],
     "prompt_number": 13
    },
    {
     "cell_type": "code",
     "collapsed": false,
     "input": [
      "df.head()"
     ],
     "language": "python",
     "metadata": {},
     "outputs": [
      {
       "html": [
        "<div style=\"max-height:1000px;max-width:1500px;overflow:auto;\">\n",
        "<table border=\"1\" class=\"dataframe\">\n",
        "  <thead>\n",
        "    <tr style=\"text-align: right;\">\n",
        "      <th></th>\n",
        "      <th>Age</th>\n",
        "      <th>Gender</th>\n",
        "      <th>Impressions</th>\n",
        "      <th>Clicks</th>\n",
        "      <th>Signed_In</th>\n",
        "    </tr>\n",
        "  </thead>\n",
        "  <tbody>\n",
        "    <tr>\n",
        "      <th>0</th>\n",
        "      <td> 36</td>\n",
        "      <td> 0</td>\n",
        "      <td>  3</td>\n",
        "      <td> 0</td>\n",
        "      <td> 1</td>\n",
        "    </tr>\n",
        "    <tr>\n",
        "      <th>1</th>\n",
        "      <td> 73</td>\n",
        "      <td> 1</td>\n",
        "      <td>  3</td>\n",
        "      <td> 0</td>\n",
        "      <td> 1</td>\n",
        "    </tr>\n",
        "    <tr>\n",
        "      <th>2</th>\n",
        "      <td> 30</td>\n",
        "      <td> 0</td>\n",
        "      <td>  3</td>\n",
        "      <td> 0</td>\n",
        "      <td> 1</td>\n",
        "    </tr>\n",
        "    <tr>\n",
        "      <th>3</th>\n",
        "      <td> 49</td>\n",
        "      <td> 1</td>\n",
        "      <td>  3</td>\n",
        "      <td> 0</td>\n",
        "      <td> 1</td>\n",
        "    </tr>\n",
        "    <tr>\n",
        "      <th>4</th>\n",
        "      <td> 47</td>\n",
        "      <td> 1</td>\n",
        "      <td> 11</td>\n",
        "      <td> 0</td>\n",
        "      <td> 1</td>\n",
        "    </tr>\n",
        "  </tbody>\n",
        "</table>\n",
        "</div>"
       ],
       "metadata": {},
       "output_type": "pyout",
       "prompt_number": 14,
       "text": [
        "   Age  Gender  Impressions  Clicks  Signed_In\n",
        "0   36       0            3       0          1\n",
        "1   73       1            3       0          1\n",
        "2   30       0            3       0          1\n",
        "3   49       1            3       0          1\n",
        "4   47       1           11       0          1"
       ]
      }
     ],
     "prompt_number": 14
    },
    {
     "cell_type": "markdown",
     "metadata": {},
     "source": [
      "## Clean up some data"
     ]
    },
    {
     "cell_type": "markdown",
     "metadata": {},
     "source": [
      "The book tells you that `female=0` and `male=1`. I turn these integer values into strings."
     ]
    },
    {
     "cell_type": "code",
     "collapsed": false,
     "input": [
      "df['Gender'].apply(lambda x: 'male' if x else 'female').head()"
     ],
     "language": "python",
     "metadata": {},
     "outputs": [
      {
       "metadata": {},
       "output_type": "pyout",
       "prompt_number": 14,
       "text": [
        "0    female\n",
        "1      male\n",
        "2    female\n",
        "3      male\n",
        "4      male\n",
        "Name: Gender, dtype: object"
       ]
      }
     ],
     "prompt_number": 14
    },
    {
     "cell_type": "markdown",
     "metadata": {},
     "source": [
      "I overwrite these values into the existing `Gender` column."
     ]
    },
    {
     "cell_type": "code",
     "collapsed": false,
     "input": [
      "df['Gender'] = df['Gender'].apply(lambda x: 'male' if x else 'female')"
     ],
     "language": "python",
     "metadata": {},
     "outputs": [],
     "prompt_number": 15
    },
    {
     "cell_type": "code",
     "collapsed": false,
     "input": [
      "df.head(10)"
     ],
     "language": "python",
     "metadata": {},
     "outputs": [
      {
       "html": [
        "<div style=\"max-height:1000px;max-width:1500px;overflow:auto;\">\n",
        "<table border=\"1\" class=\"dataframe\">\n",
        "  <thead>\n",
        "    <tr style=\"text-align: right;\">\n",
        "      <th></th>\n",
        "      <th>Age</th>\n",
        "      <th>Gender</th>\n",
        "      <th>Impressions</th>\n",
        "      <th>Clicks</th>\n",
        "      <th>Signed_In</th>\n",
        "    </tr>\n",
        "  </thead>\n",
        "  <tbody>\n",
        "    <tr>\n",
        "      <th>0</th>\n",
        "      <td> 36</td>\n",
        "      <td> female</td>\n",
        "      <td>  3</td>\n",
        "      <td> 0</td>\n",
        "      <td> 1</td>\n",
        "    </tr>\n",
        "    <tr>\n",
        "      <th>1</th>\n",
        "      <td> 73</td>\n",
        "      <td>   male</td>\n",
        "      <td>  3</td>\n",
        "      <td> 0</td>\n",
        "      <td> 1</td>\n",
        "    </tr>\n",
        "    <tr>\n",
        "      <th>2</th>\n",
        "      <td> 30</td>\n",
        "      <td> female</td>\n",
        "      <td>  3</td>\n",
        "      <td> 0</td>\n",
        "      <td> 1</td>\n",
        "    </tr>\n",
        "    <tr>\n",
        "      <th>3</th>\n",
        "      <td> 49</td>\n",
        "      <td>   male</td>\n",
        "      <td>  3</td>\n",
        "      <td> 0</td>\n",
        "      <td> 1</td>\n",
        "    </tr>\n",
        "    <tr>\n",
        "      <th>4</th>\n",
        "      <td> 47</td>\n",
        "      <td>   male</td>\n",
        "      <td> 11</td>\n",
        "      <td> 0</td>\n",
        "      <td> 1</td>\n",
        "    </tr>\n",
        "    <tr>\n",
        "      <th>5</th>\n",
        "      <td> 47</td>\n",
        "      <td> female</td>\n",
        "      <td> 11</td>\n",
        "      <td> 1</td>\n",
        "      <td> 1</td>\n",
        "    </tr>\n",
        "    <tr>\n",
        "      <th>6</th>\n",
        "      <td>  0</td>\n",
        "      <td> female</td>\n",
        "      <td>  7</td>\n",
        "      <td> 1</td>\n",
        "      <td> 0</td>\n",
        "    </tr>\n",
        "    <tr>\n",
        "      <th>7</th>\n",
        "      <td> 46</td>\n",
        "      <td> female</td>\n",
        "      <td>  5</td>\n",
        "      <td> 0</td>\n",
        "      <td> 1</td>\n",
        "    </tr>\n",
        "    <tr>\n",
        "      <th>8</th>\n",
        "      <td> 16</td>\n",
        "      <td> female</td>\n",
        "      <td>  3</td>\n",
        "      <td> 0</td>\n",
        "      <td> 1</td>\n",
        "    </tr>\n",
        "    <tr>\n",
        "      <th>9</th>\n",
        "      <td> 52</td>\n",
        "      <td> female</td>\n",
        "      <td>  4</td>\n",
        "      <td> 0</td>\n",
        "      <td> 1</td>\n",
        "    </tr>\n",
        "  </tbody>\n",
        "</table>\n",
        "</div>"
       ],
       "metadata": {},
       "output_type": "pyout",
       "prompt_number": 16,
       "text": [
        "   Age  Gender  Impressions  Clicks  Signed_In\n",
        "0   36  female            3       0          1\n",
        "1   73    male            3       0          1\n",
        "2   30  female            3       0          1\n",
        "3   49    male            3       0          1\n",
        "4   47    male           11       0          1\n",
        "5   47  female           11       1          1\n",
        "6    0  female            7       1          0\n",
        "7   46  female            5       0          1\n",
        "8   16  female            3       0          1\n",
        "9   52  female            4       0          1"
       ]
      }
     ],
     "prompt_number": 16
    },
    {
     "cell_type": "markdown",
     "metadata": {},
     "source": [
      "## Create `age_group` that categorizes user by age"
     ]
    },
    {
     "cell_type": "markdown",
     "metadata": {},
     "source": [
      "Want to categorize by age `<18, 18-24, 25-34, 35-44, 45-54, 55-64, +65`.\n",
      "\n",
      "Create bins and labels and use `pd.cut` with `right=False` to not include rightmost edge."
     ]
    },
    {
     "cell_type": "code",
     "collapsed": false,
     "input": [
      "age_range = [0, 19, 25, 35, 45, 55, 65, np.inf]\n",
      "age_labels = ['18--', '18-24', '25-34', '35-44', '45-54', '55-64', '65++']"
     ],
     "language": "python",
     "metadata": {},
     "outputs": [],
     "prompt_number": 21
    },
    {
     "cell_type": "code",
     "collapsed": false,
     "input": [
      "pd.cut(df['Age'], bins=age_range, right=False, labels=age_labels)"
     ],
     "language": "python",
     "metadata": {},
     "outputs": [
      {
       "metadata": {},
       "output_type": "pyout",
       "prompt_number": 22,
       "text": [
        "0     35-44\n",
        "1      65++\n",
        "2     25-34\n",
        "3     45-54\n",
        "4     45-54\n",
        "5     45-54\n",
        "6      18--\n",
        "7     45-54\n",
        "8      18--\n",
        "9     45-54\n",
        "10     18--\n",
        "11    18-24\n",
        "12     18--\n",
        "13    55-64\n",
        "14    25-34\n",
        "...\n",
        "458426    45-54\n",
        "458427    35-44\n",
        "458428    35-44\n",
        "458429    45-54\n",
        "458430     18--\n",
        "458431    18-24\n",
        "458432    25-34\n",
        "458433    18-24\n",
        "458434    55-64\n",
        "458435    45-54\n",
        "458436     18--\n",
        "458437     18--\n",
        "458438     65++\n",
        "458439     18--\n",
        "458440     18--\n",
        "Name: Age, Length: 458441, dtype: category\n",
        "Categories (7, object): [18-- < 18-24 < 25-34 < 35-44 < 45-54 < 55-64 < 65++]"
       ]
      }
     ],
     "prompt_number": 22
    },
    {
     "cell_type": "markdown",
     "metadata": {},
     "source": [
      "Put this into a new columns."
     ]
    },
    {
     "cell_type": "code",
     "collapsed": false,
     "input": [
      "df['Age_group'] = pd.cut(df['Age'], bins=age_range, right=False, labels=age_labels)"
     ],
     "language": "python",
     "metadata": {},
     "outputs": [],
     "prompt_number": 23
    },
    {
     "cell_type": "code",
     "collapsed": false,
     "input": [
      "df.head(10)"
     ],
     "language": "python",
     "metadata": {},
     "outputs": [
      {
       "html": [
        "<div style=\"max-height:1000px;max-width:1500px;overflow:auto;\">\n",
        "<table border=\"1\" class=\"dataframe\">\n",
        "  <thead>\n",
        "    <tr style=\"text-align: right;\">\n",
        "      <th></th>\n",
        "      <th>Age</th>\n",
        "      <th>Gender</th>\n",
        "      <th>Impressions</th>\n",
        "      <th>Clicks</th>\n",
        "      <th>Signed_In</th>\n",
        "      <th>Age_group</th>\n",
        "    </tr>\n",
        "  </thead>\n",
        "  <tbody>\n",
        "    <tr>\n",
        "      <th>0</th>\n",
        "      <td> 36</td>\n",
        "      <td> female</td>\n",
        "      <td>  3</td>\n",
        "      <td> 0</td>\n",
        "      <td> 1</td>\n",
        "      <td> 35-44</td>\n",
        "    </tr>\n",
        "    <tr>\n",
        "      <th>1</th>\n",
        "      <td> 73</td>\n",
        "      <td>   male</td>\n",
        "      <td>  3</td>\n",
        "      <td> 0</td>\n",
        "      <td> 1</td>\n",
        "      <td>  65++</td>\n",
        "    </tr>\n",
        "    <tr>\n",
        "      <th>2</th>\n",
        "      <td> 30</td>\n",
        "      <td> female</td>\n",
        "      <td>  3</td>\n",
        "      <td> 0</td>\n",
        "      <td> 1</td>\n",
        "      <td> 25-34</td>\n",
        "    </tr>\n",
        "    <tr>\n",
        "      <th>3</th>\n",
        "      <td> 49</td>\n",
        "      <td>   male</td>\n",
        "      <td>  3</td>\n",
        "      <td> 0</td>\n",
        "      <td> 1</td>\n",
        "      <td> 45-54</td>\n",
        "    </tr>\n",
        "    <tr>\n",
        "      <th>4</th>\n",
        "      <td> 47</td>\n",
        "      <td>   male</td>\n",
        "      <td> 11</td>\n",
        "      <td> 0</td>\n",
        "      <td> 1</td>\n",
        "      <td> 45-54</td>\n",
        "    </tr>\n",
        "    <tr>\n",
        "      <th>5</th>\n",
        "      <td> 47</td>\n",
        "      <td> female</td>\n",
        "      <td> 11</td>\n",
        "      <td> 1</td>\n",
        "      <td> 1</td>\n",
        "      <td> 45-54</td>\n",
        "    </tr>\n",
        "    <tr>\n",
        "      <th>6</th>\n",
        "      <td>  0</td>\n",
        "      <td> female</td>\n",
        "      <td>  7</td>\n",
        "      <td> 1</td>\n",
        "      <td> 0</td>\n",
        "      <td>  18--</td>\n",
        "    </tr>\n",
        "    <tr>\n",
        "      <th>7</th>\n",
        "      <td> 46</td>\n",
        "      <td> female</td>\n",
        "      <td>  5</td>\n",
        "      <td> 0</td>\n",
        "      <td> 1</td>\n",
        "      <td> 45-54</td>\n",
        "    </tr>\n",
        "    <tr>\n",
        "      <th>8</th>\n",
        "      <td> 16</td>\n",
        "      <td> female</td>\n",
        "      <td>  3</td>\n",
        "      <td> 0</td>\n",
        "      <td> 1</td>\n",
        "      <td>  18--</td>\n",
        "    </tr>\n",
        "    <tr>\n",
        "      <th>9</th>\n",
        "      <td> 52</td>\n",
        "      <td> female</td>\n",
        "      <td>  4</td>\n",
        "      <td> 0</td>\n",
        "      <td> 1</td>\n",
        "      <td> 45-54</td>\n",
        "    </tr>\n",
        "  </tbody>\n",
        "</table>\n",
        "</div>"
       ],
       "metadata": {},
       "output_type": "pyout",
       "prompt_number": 24,
       "text": [
        "   Age  Gender  Impressions  Clicks  Signed_In Age_group\n",
        "0   36  female            3       0          1     35-44\n",
        "1   73    male            3       0          1      65++\n",
        "2   30  female            3       0          1     25-34\n",
        "3   49    male            3       0          1     45-54\n",
        "4   47    male           11       0          1     45-54\n",
        "5   47  female           11       1          1     45-54\n",
        "6    0  female            7       1          0      18--\n",
        "7   46  female            5       0          1     45-54\n",
        "8   16  female            3       0          1      18--\n",
        "9   52  female            4       0          1     45-54"
       ]
      }
     ],
     "prompt_number": 24
    },
    {
     "cell_type": "markdown",
     "metadata": {},
     "source": [
      "## Click-trough-rate aka CRT by age categories\n",
      "\n",
      "Impressions and click-rate distributions according to this age category."
     ]
    },
    {
     "cell_type": "markdown",
     "metadata": {},
     "source": [
      "Let's group data by this `Age_group` just for the impressions and clicks columns and count the number of each.\n",
      "\n",
      "Simple use the `groupby` function to the column `Age_group`."
     ]
    },
    {
     "cell_type": "code",
     "collapsed": false,
     "input": [
      "df.groupby('Age_group')[['Impressions', 'Clicks']].sum()"
     ],
     "language": "python",
     "metadata": {},
     "outputs": [
      {
       "html": [
        "<div style=\"max-height:1000px;max-width:1500px;overflow:auto;\">\n",
        "<table border=\"1\" class=\"dataframe\">\n",
        "  <thead>\n",
        "    <tr style=\"text-align: right;\">\n",
        "      <th></th>\n",
        "      <th>Impressions</th>\n",
        "      <th>Clicks</th>\n",
        "    </tr>\n",
        "    <tr>\n",
        "      <th>Age_group</th>\n",
        "      <th></th>\n",
        "      <th></th>\n",
        "    </tr>\n",
        "  </thead>\n",
        "  <tbody>\n",
        "    <tr>\n",
        "      <th>18--</th>\n",
        "      <td> 781723</td>\n",
        "      <td> 22003</td>\n",
        "    </tr>\n",
        "    <tr>\n",
        "      <th>18-24</th>\n",
        "      <td> 176584</td>\n",
        "      <td>  1709</td>\n",
        "    </tr>\n",
        "    <tr>\n",
        "      <th>25-34</th>\n",
        "      <td> 290511</td>\n",
        "      <td>  2937</td>\n",
        "    </tr>\n",
        "    <tr>\n",
        "      <th>35-44</th>\n",
        "      <td> 355824</td>\n",
        "      <td>  3662</td>\n",
        "    </tr>\n",
        "    <tr>\n",
        "      <th>45-54</th>\n",
        "      <td> 322109</td>\n",
        "      <td>  3232</td>\n",
        "    </tr>\n",
        "    <tr>\n",
        "      <th>55-64</th>\n",
        "      <td> 224688</td>\n",
        "      <td>  4556</td>\n",
        "    </tr>\n",
        "    <tr>\n",
        "      <th>65++</th>\n",
        "      <td> 144120</td>\n",
        "      <td>  4350</td>\n",
        "    </tr>\n",
        "  </tbody>\n",
        "</table>\n",
        "</div>"
       ],
       "metadata": {},
       "output_type": "pyout",
       "prompt_number": 25,
       "text": [
        "           Impressions  Clicks\n",
        "Age_group                     \n",
        "18--            781723   22003\n",
        "18-24           176584    1709\n",
        "25-34           290511    2937\n",
        "35-44           355824    3662\n",
        "45-54           322109    3232\n",
        "55-64           224688    4556\n",
        "65++            144120    4350"
       ]
      }
     ],
     "prompt_number": 25
    },
    {
     "cell_type": "markdown",
     "metadata": {},
     "source": [
      "Here we are ! I count the number of values for each category for the two columns. Compute the CTR (click-through-rate, i.e. `clicks/impression`) and let's plot some stuff."
     ]
    },
    {
     "cell_type": "code",
     "collapsed": false,
     "input": [
      "df_age_group = df.groupby('Age_group')[['Impressions', 'Clicks']].sum()"
     ],
     "language": "python",
     "metadata": {},
     "outputs": [],
     "prompt_number": 27
    },
    {
     "cell_type": "markdown",
     "metadata": {},
     "source": [
      "Compute the click rate."
     ]
    },
    {
     "cell_type": "code",
     "collapsed": false,
     "input": [
      "df_age_group['CTR'] = df_age_group['Clicks'] / df_age_group['Impressions']"
     ],
     "language": "python",
     "metadata": {},
     "outputs": [],
     "prompt_number": 40
    },
    {
     "cell_type": "markdown",
     "metadata": {},
     "source": [
      "Plotting some data."
     ]
    },
    {
     "cell_type": "code",
     "collapsed": false,
     "input": [
      "df_age_group[['Impressions', 'CTR']].plot(kind='bar', subplots=True)"
     ],
     "language": "python",
     "metadata": {},
     "outputs": [
      {
       "metadata": {},
       "output_type": "pyout",
       "prompt_number": 41,
       "text": [
        "array([<matplotlib.axes._subplots.AxesSubplot object at 0x7fcf3546d510>,\n",
        "       <matplotlib.axes._subplots.AxesSubplot object at 0x7fcf353c37d0>], dtype=object)"
       ]
      },
      {
       "metadata": {},
       "output_type": "display_data",
       "png": "[encoded data removed]",
       "text": [
        "<matplotlib.figure.Figure at 0x7fcf356eae10>"
       ]
      }
     ],
     "prompt_number": 41
    },
    {
     "cell_type": "markdown",
     "metadata": {},
     "source": [
      "## New category based on click behavior\n",
      "\n",
      "You can take an arbitrary threshold such as median to create two new segments: `low` and  `high` CTRs."
     ]
    },
    {
     "cell_type": "code",
     "collapsed": false,
     "input": [
      "df_age_group[\"CTR\"].describe()"
     ],
     "language": "python",
     "metadata": {},
     "outputs": [
      {
       "metadata": {},
       "output_type": "pyout",
       "prompt_number": 42,
       "text": [
        "count    7.000000\n",
        "mean     0.016960\n",
        "std      0.009160\n",
        "min      0.009678\n",
        "25%      0.010072\n",
        "50%      0.010292\n",
        "75%      0.024212\n",
        "max      0.030183\n",
        "Name: CTR, dtype: float64"
       ]
      }
     ],
     "prompt_number": 42
    },
    {
     "cell_type": "code",
     "collapsed": false,
     "input": [
      "threshold = 0.010292\n",
      "df_age_group[\"CTR\"] > threshold"
     ],
     "language": "python",
     "metadata": {},
     "outputs": [
      {
       "metadata": {},
       "output_type": "pyout",
       "prompt_number": 43,
       "text": [
        "Age_group\n",
        "18--          True\n",
        "18-24        False\n",
        "25-34        False\n",
        "35-44        False\n",
        "45-54        False\n",
        "55-64         True\n",
        "65++          True\n",
        "Name: CTR, dtype: bool"
       ]
      }
     ],
     "prompt_number": 43
    },
    {
     "cell_type": "code",
     "collapsed": false,
     "input": [
      "df_age_group[\"High\"] = df_age_group[\"CTR\"] > threshold"
     ],
     "language": "python",
     "metadata": {},
     "outputs": [],
     "prompt_number": 44
    },
    {
     "cell_type": "code",
     "collapsed": false,
     "input": [
      "df_age_group"
     ],
     "language": "python",
     "metadata": {},
     "outputs": [
      {
       "html": [
        "<div style=\"max-height:1000px;max-width:1500px;overflow:auto;\">\n",
        "<table border=\"1\" class=\"dataframe\">\n",
        "  <thead>\n",
        "    <tr style=\"text-align: right;\">\n",
        "      <th></th>\n",
        "      <th>Impressions</th>\n",
        "      <th>Clicks</th>\n",
        "      <th>CTR</th>\n",
        "      <th>High</th>\n",
        "    </tr>\n",
        "    <tr>\n",
        "      <th>Age_group</th>\n",
        "      <th></th>\n",
        "      <th></th>\n",
        "      <th></th>\n",
        "      <th></th>\n",
        "    </tr>\n",
        "  </thead>\n",
        "  <tbody>\n",
        "    <tr>\n",
        "      <th>18--</th>\n",
        "      <td> 781723</td>\n",
        "      <td> 22003</td>\n",
        "      <td> 0.028147</td>\n",
        "      <td>  True</td>\n",
        "    </tr>\n",
        "    <tr>\n",
        "      <th>18-24</th>\n",
        "      <td> 176584</td>\n",
        "      <td>  1709</td>\n",
        "      <td> 0.009678</td>\n",
        "      <td> False</td>\n",
        "    </tr>\n",
        "    <tr>\n",
        "      <th>25-34</th>\n",
        "      <td> 290511</td>\n",
        "      <td>  2937</td>\n",
        "      <td> 0.010110</td>\n",
        "      <td> False</td>\n",
        "    </tr>\n",
        "    <tr>\n",
        "      <th>35-44</th>\n",
        "      <td> 355824</td>\n",
        "      <td>  3662</td>\n",
        "      <td> 0.010292</td>\n",
        "      <td> False</td>\n",
        "    </tr>\n",
        "    <tr>\n",
        "      <th>45-54</th>\n",
        "      <td> 322109</td>\n",
        "      <td>  3232</td>\n",
        "      <td> 0.010034</td>\n",
        "      <td> False</td>\n",
        "    </tr>\n",
        "    <tr>\n",
        "      <th>55-64</th>\n",
        "      <td> 224688</td>\n",
        "      <td>  4556</td>\n",
        "      <td> 0.020277</td>\n",
        "      <td>  True</td>\n",
        "    </tr>\n",
        "    <tr>\n",
        "      <th>65++</th>\n",
        "      <td> 144120</td>\n",
        "      <td>  4350</td>\n",
        "      <td> 0.030183</td>\n",
        "      <td>  True</td>\n",
        "    </tr>\n",
        "  </tbody>\n",
        "</table>\n",
        "</div>"
       ],
       "metadata": {},
       "output_type": "pyout",
       "prompt_number": 45,
       "text": [
        "           Impressions  Clicks       CTR   High\n",
        "Age_group                                      \n",
        "18--            781723   22003  0.028147   True\n",
        "18-24           176584    1709  0.009678  False\n",
        "25-34           290511    2937  0.010110  False\n",
        "35-44           355824    3662  0.010292  False\n",
        "45-54           322109    3232  0.010034  False\n",
        "55-64           224688    4556  0.020277   True\n",
        "65++            144120    4350  0.030183   True"
       ]
      }
     ],
     "prompt_number": 45
    },
    {
     "cell_type": "code",
     "collapsed": false,
     "input": [
      "df.head(20)"
     ],
     "language": "python",
     "metadata": {},
     "outputs": [
      {
       "html": [
        "<div style=\"max-height:1000px;max-width:1500px;overflow:auto;\">\n",
        "<table border=\"1\" class=\"dataframe\">\n",
        "  <thead>\n",
        "    <tr style=\"text-align: right;\">\n",
        "      <th></th>\n",
        "      <th>Age</th>\n",
        "      <th>Gender</th>\n",
        "      <th>Impressions</th>\n",
        "      <th>Clicks</th>\n",
        "      <th>Signed_In</th>\n",
        "      <th>Age_group</th>\n",
        "    </tr>\n",
        "  </thead>\n",
        "  <tbody>\n",
        "    <tr>\n",
        "      <th>0 </th>\n",
        "      <td> 36</td>\n",
        "      <td> female</td>\n",
        "      <td>  3</td>\n",
        "      <td> 0</td>\n",
        "      <td> 1</td>\n",
        "      <td> 35-44</td>\n",
        "    </tr>\n",
        "    <tr>\n",
        "      <th>1 </th>\n",
        "      <td> 73</td>\n",
        "      <td>   male</td>\n",
        "      <td>  3</td>\n",
        "      <td> 0</td>\n",
        "      <td> 1</td>\n",
        "      <td>  65++</td>\n",
        "    </tr>\n",
        "    <tr>\n",
        "      <th>2 </th>\n",
        "      <td> 30</td>\n",
        "      <td> female</td>\n",
        "      <td>  3</td>\n",
        "      <td> 0</td>\n",
        "      <td> 1</td>\n",
        "      <td> 25-34</td>\n",
        "    </tr>\n",
        "    <tr>\n",
        "      <th>3 </th>\n",
        "      <td> 49</td>\n",
        "      <td>   male</td>\n",
        "      <td>  3</td>\n",
        "      <td> 0</td>\n",
        "      <td> 1</td>\n",
        "      <td> 45-54</td>\n",
        "    </tr>\n",
        "    <tr>\n",
        "      <th>4 </th>\n",
        "      <td> 47</td>\n",
        "      <td>   male</td>\n",
        "      <td> 11</td>\n",
        "      <td> 0</td>\n",
        "      <td> 1</td>\n",
        "      <td> 45-54</td>\n",
        "    </tr>\n",
        "    <tr>\n",
        "      <th>5 </th>\n",
        "      <td> 47</td>\n",
        "      <td> female</td>\n",
        "      <td> 11</td>\n",
        "      <td> 1</td>\n",
        "      <td> 1</td>\n",
        "      <td> 45-54</td>\n",
        "    </tr>\n",
        "    <tr>\n",
        "      <th>6 </th>\n",
        "      <td>  0</td>\n",
        "      <td> female</td>\n",
        "      <td>  7</td>\n",
        "      <td> 1</td>\n",
        "      <td> 0</td>\n",
        "      <td>  18--</td>\n",
        "    </tr>\n",
        "    <tr>\n",
        "      <th>7 </th>\n",
        "      <td> 46</td>\n",
        "      <td> female</td>\n",
        "      <td>  5</td>\n",
        "      <td> 0</td>\n",
        "      <td> 1</td>\n",
        "      <td> 45-54</td>\n",
        "    </tr>\n",
        "    <tr>\n",
        "      <th>8 </th>\n",
        "      <td> 16</td>\n",
        "      <td> female</td>\n",
        "      <td>  3</td>\n",
        "      <td> 0</td>\n",
        "      <td> 1</td>\n",
        "      <td>  18--</td>\n",
        "    </tr>\n",
        "    <tr>\n",
        "      <th>9 </th>\n",
        "      <td> 52</td>\n",
        "      <td> female</td>\n",
        "      <td>  4</td>\n",
        "      <td> 0</td>\n",
        "      <td> 1</td>\n",
        "      <td> 45-54</td>\n",
        "    </tr>\n",
        "    <tr>\n",
        "      <th>10</th>\n",
        "      <td>  0</td>\n",
        "      <td> female</td>\n",
        "      <td>  8</td>\n",
        "      <td> 1</td>\n",
        "      <td> 0</td>\n",
        "      <td>  18--</td>\n",
        "    </tr>\n",
        "    <tr>\n",
        "      <th>11</th>\n",
        "      <td> 21</td>\n",
        "      <td> female</td>\n",
        "      <td>  3</td>\n",
        "      <td> 0</td>\n",
        "      <td> 1</td>\n",
        "      <td> 18-24</td>\n",
        "    </tr>\n",
        "    <tr>\n",
        "      <th>12</th>\n",
        "      <td>  0</td>\n",
        "      <td> female</td>\n",
        "      <td>  4</td>\n",
        "      <td> 0</td>\n",
        "      <td> 0</td>\n",
        "      <td>  18--</td>\n",
        "    </tr>\n",
        "    <tr>\n",
        "      <th>13</th>\n",
        "      <td> 57</td>\n",
        "      <td> female</td>\n",
        "      <td>  6</td>\n",
        "      <td> 0</td>\n",
        "      <td> 1</td>\n",
        "      <td> 55-64</td>\n",
        "    </tr>\n",
        "    <tr>\n",
        "      <th>14</th>\n",
        "      <td> 31</td>\n",
        "      <td> female</td>\n",
        "      <td>  5</td>\n",
        "      <td> 0</td>\n",
        "      <td> 1</td>\n",
        "      <td> 25-34</td>\n",
        "    </tr>\n",
        "    <tr>\n",
        "      <th>15</th>\n",
        "      <td>  0</td>\n",
        "      <td> female</td>\n",
        "      <td>  6</td>\n",
        "      <td> 0</td>\n",
        "      <td> 0</td>\n",
        "      <td>  18--</td>\n",
        "    </tr>\n",
        "    <tr>\n",
        "      <th>16</th>\n",
        "      <td> 40</td>\n",
        "      <td>   male</td>\n",
        "      <td>  3</td>\n",
        "      <td> 0</td>\n",
        "      <td> 1</td>\n",
        "      <td> 35-44</td>\n",
        "    </tr>\n",
        "    <tr>\n",
        "      <th>17</th>\n",
        "      <td> 31</td>\n",
        "      <td>   male</td>\n",
        "      <td>  5</td>\n",
        "      <td> 0</td>\n",
        "      <td> 1</td>\n",
        "      <td> 25-34</td>\n",
        "    </tr>\n",
        "    <tr>\n",
        "      <th>18</th>\n",
        "      <td> 38</td>\n",
        "      <td> female</td>\n",
        "      <td>  4</td>\n",
        "      <td> 0</td>\n",
        "      <td> 1</td>\n",
        "      <td> 35-44</td>\n",
        "    </tr>\n",
        "    <tr>\n",
        "      <th>19</th>\n",
        "      <td>  0</td>\n",
        "      <td> female</td>\n",
        "      <td>  5</td>\n",
        "      <td> 0</td>\n",
        "      <td> 0</td>\n",
        "      <td>  18--</td>\n",
        "    </tr>\n",
        "  </tbody>\n",
        "</table>\n",
        "</div>"
       ],
       "metadata": {},
       "output_type": "pyout",
       "prompt_number": 46,
       "text": [
        "    Age  Gender  Impressions  Clicks  Signed_In Age_group\n",
        "0    36  female            3       0          1     35-44\n",
        "1    73    male            3       0          1      65++\n",
        "2    30  female            3       0          1     25-34\n",
        "3    49    male            3       0          1     45-54\n",
        "4    47    male           11       0          1     45-54\n",
        "5    47  female           11       1          1     45-54\n",
        "6     0  female            7       1          0      18--\n",
        "7    46  female            5       0          1     45-54\n",
        "8    16  female            3       0          1      18--\n",
        "9    52  female            4       0          1     45-54\n",
        "10    0  female            8       1          0      18--\n",
        "11   21  female            3       0          1     18-24\n",
        "12    0  female            4       0          0      18--\n",
        "13   57  female            6       0          1     55-64\n",
        "14   31  female            5       0          1     25-34\n",
        "15    0  female            6       0          0      18--\n",
        "16   40    male            3       0          1     35-44\n",
        "17   31    male            5       0          1     25-34\n",
        "18   38  female            4       0          1     35-44\n",
        "19    0  female            5       0          0      18--"
       ]
      }
     ],
     "prompt_number": 46
    }
   ],
   "metadata": {}
  }
 ]
}