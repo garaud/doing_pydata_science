{
 "cells": [
  {
   "cell_type": "markdown",
   "metadata": {},
   "source": [
    "# Doing Data Science: chapter 2 - EDA\n",
    "\n",
    "Python code for the exercise on **E**ploratory **D**ata **A**nalysis, 2nd chapter of [Doing Data Science](http://shop.oreilly.com/product/0636920028529.do)\n",
    "\n",
    "Get input data files from https://github.com/oreillymedia/doing_data_science or http://stat.columbia.edu/~rachel/nytN.csv where `N=[1, .., 31]`.\n",
    "\n",
    "**Author**: Damien Garaud\n",
    "\n",
    "**Project on Github**: https://github.com/garaud/doing_pydata_science\n",
    "\n",
    "**Table of Contents**\n",
    "\n",
    "* [Retrieve Some Data](#Retrive-Some-Data)\n",
    "* [Extracting Data with pandas](#Extract-Data-with-pandas)\n",
    "* [Clean up some Data](#Clean-up-some-Data)\n",
    "* [Categorize by Age](#Categorize-by-Age)\n",
    "* [Click-through-rate aka CRT by age categories](#Click-through-rate-aka-CRT-by-age-categories)\n",
    "* [New Category based on the Click Behavior](#New-Category-based-on-the-Click-Behavior)"
   ]
  },
  {
   "cell_type": "markdown",
   "metadata": {},
   "source": [
    "## Retrieve Some Data\n",
    "\n",
    "Quoting:\n",
    "\n",
    "> Each file represents one (simulated) day's worth of ads shown and clicks recorded on the NY Times home page in May 2012"
   ]
  },
  {
   "cell_type": "code",
   "execution_count": 1,
   "metadata": {
    "collapsed": true
   },
   "outputs": [],
   "source": [
    "%matplotlib inline"
   ]
  },
  {
   "cell_type": "code",
   "execution_count": 2,
   "metadata": {
    "collapsed": false
   },
   "outputs": [],
   "source": [
    "from __future__ import print_function \n",
    "from StringIO import StringIO"
   ]
  },
  {
   "cell_type": "code",
   "execution_count": 3,
   "metadata": {
    "collapsed": false
   },
   "outputs": [],
   "source": [
    "import requests"
   ]
  },
  {
   "cell_type": "code",
   "execution_count": 45,
   "metadata": {
    "collapsed": false
   },
   "outputs": [],
   "source": [
    "URL = 'http://stat.columbia.edu/~rachel/datasets/nyt1.csv'"
   ]
  },
  {
   "cell_type": "code",
   "execution_count": 46,
   "metadata": {
    "collapsed": true
   },
   "outputs": [],
   "source": [
    "#resp = requests.get(URL)"
   ]
  },
  {
   "cell_type": "markdown",
   "metadata": {},
   "source": [
    "Save it to a CSV file."
   ]
  },
  {
   "cell_type": "code",
   "execution_count": 47,
   "metadata": {
    "collapsed": false
   },
   "outputs": [],
   "source": [
    "#with open('nyt1.csv', 'w') as fid:\n",
    "#    fid.write(resp.content)"
   ]
  },
  {
   "cell_type": "code",
   "execution_count": 4,
   "metadata": {
    "collapsed": false
   },
   "outputs": [
    {
     "name": "stdout",
     "output_type": "stream",
     "text": [
      "nyt1.csv\r\n"
     ]
    }
   ],
   "source": [
    "!ls *.csv"
   ]
  },
  {
   "cell_type": "code",
   "execution_count": 5,
   "metadata": {
    "collapsed": false
   },
   "outputs": [
    {
     "name": "stdout",
     "output_type": "stream",
     "text": [
      "\"Age\",\"Gender\",\"Impressions\",\"Clicks\",\"Signed_In\"\r\n",
      "36,0,3,0,1\r\n",
      "73,1,3,0,1\r\n",
      "30,0,3,0,1\r\n",
      "49,1,3,0,1\r\n",
      "47,1,11,0,1\r\n",
      "47,0,11,1,1\r\n",
      "0,0,7,1,0\r\n",
      "46,0,5,0,1\r\n",
      "16,0,3,0,1\r\n"
     ]
    }
   ],
   "source": [
    "!head nyt1.csv"
   ]
  },
  {
   "cell_type": "markdown",
   "metadata": {},
   "source": [
    "## Extract Data with pandas"
   ]
  },
  {
   "cell_type": "code",
   "execution_count": 6,
   "metadata": {
    "collapsed": false
   },
   "outputs": [
    {
     "name": "stdout",
     "output_type": "stream",
     "text": [
      "pandas version 0.15.2\n"
     ]
    }
   ],
   "source": [
    "import numpy as np\n",
    "import pandas as pd\n",
    "import matplotlib.pyplot as plt\n",
    "print(\"pandas version {}\".format(pd.__version__))"
   ]
  },
  {
   "cell_type": "markdown",
   "metadata": {},
   "source": [
    "For a matplotlib version >= 1.4, you can use `plt.style.use(\"ggplot\")`"
   ]
  },
  {
   "cell_type": "code",
   "execution_count": 7,
   "metadata": {
    "collapsed": false
   },
   "outputs": [],
   "source": [
    "plt.style.use(\"ggplot\")\n",
    "# pd.options.display.mpl_style = \"default\""
   ]
  },
  {
   "cell_type": "code",
   "execution_count": 8,
   "metadata": {
    "collapsed": false
   },
   "outputs": [],
   "source": [
    "# Read the file or the 'content'\n",
    "#df = pd.read_csv(StringIO(resp.content))\n",
    "df = pd.read_csv(\"nyt1.csv\")"
   ]
  },
  {
   "cell_type": "code",
   "execution_count": 9,
   "metadata": {
    "collapsed": false
   },
   "outputs": [
    {
     "data": {
      "text/html": [
       "<div style=\"max-height:1000px;max-width:1500px;overflow:auto;\">\n",
       "<table border=\"1\" class=\"dataframe\">\n",
       "  <thead>\n",
       "    <tr style=\"text-align: right;\">\n",
       "      <th></th>\n",
       "      <th>Age</th>\n",
       "      <th>Gender</th>\n",
       "      <th>Impressions</th>\n",
       "      <th>Clicks</th>\n",
       "      <th>Signed_In</th>\n",
       "    </tr>\n",
       "  </thead>\n",
       "  <tbody>\n",
       "    <tr>\n",
       "      <th>0</th>\n",
       "      <td> 36</td>\n",
       "      <td> 0</td>\n",
       "      <td>  3</td>\n",
       "      <td> 0</td>\n",
       "      <td> 1</td>\n",
       "    </tr>\n",
       "    <tr>\n",
       "      <th>1</th>\n",
       "      <td> 73</td>\n",
       "      <td> 1</td>\n",
       "      <td>  3</td>\n",
       "      <td> 0</td>\n",
       "      <td> 1</td>\n",
       "    </tr>\n",
       "    <tr>\n",
       "      <th>2</th>\n",
       "      <td> 30</td>\n",
       "      <td> 0</td>\n",
       "      <td>  3</td>\n",
       "      <td> 0</td>\n",
       "      <td> 1</td>\n",
       "    </tr>\n",
       "    <tr>\n",
       "      <th>3</th>\n",
       "      <td> 49</td>\n",
       "      <td> 1</td>\n",
       "      <td>  3</td>\n",
       "      <td> 0</td>\n",
       "      <td> 1</td>\n",
       "    </tr>\n",
       "    <tr>\n",
       "      <th>4</th>\n",
       "      <td> 47</td>\n",
       "      <td> 1</td>\n",
       "      <td> 11</td>\n",
       "      <td> 0</td>\n",
       "      <td> 1</td>\n",
       "    </tr>\n",
       "  </tbody>\n",
       "</table>\n",
       "</div>"
      ],
      "text/plain": [
       "   Age  Gender  Impressions  Clicks  Signed_In\n",
       "0   36       0            3       0          1\n",
       "1   73       1            3       0          1\n",
       "2   30       0            3       0          1\n",
       "3   49       1            3       0          1\n",
       "4   47       1           11       0          1"
      ]
     },
     "execution_count": 9,
     "metadata": {},
     "output_type": "execute_result"
    }
   ],
   "source": [
    "df.head()"
   ]
  },
  {
   "cell_type": "markdown",
   "metadata": {},
   "source": [
    "## Clean up some Data"
   ]
  },
  {
   "cell_type": "markdown",
   "metadata": {},
   "source": [
    "The book tells you that `female=0` and `male=1`. I turn these integer values into strings."
   ]
  },
  {
   "cell_type": "code",
   "execution_count": 10,
   "metadata": {
    "collapsed": false
   },
   "outputs": [
    {
     "data": {
      "text/plain": [
       "0    female\n",
       "1      male\n",
       "2    female\n",
       "3      male\n",
       "4      male\n",
       "Name: Gender, dtype: object"
      ]
     },
     "execution_count": 10,
     "metadata": {},
     "output_type": "execute_result"
    }
   ],
   "source": [
    "df['Gender'].apply(lambda x: 'male' if x else 'female').head()"
   ]
  },
  {
   "cell_type": "markdown",
   "metadata": {},
   "source": [
    "I overwrite these values into the existing `Gender` column."
   ]
  },
  {
   "cell_type": "code",
   "execution_count": 11,
   "metadata": {
    "collapsed": false
   },
   "outputs": [],
   "source": [
    "df['Gender'] = df['Gender'].apply(lambda x: 'male' if x else 'female')"
   ]
  },
  {
   "cell_type": "code",
   "execution_count": 12,
   "metadata": {
    "collapsed": false
   },
   "outputs": [
    {
     "data": {
      "text/html": [
       "<div style=\"max-height:1000px;max-width:1500px;overflow:auto;\">\n",
       "<table border=\"1\" class=\"dataframe\">\n",
       "  <thead>\n",
       "    <tr style=\"text-align: right;\">\n",
       "      <th></th>\n",
       "      <th>Age</th>\n",
       "      <th>Gender</th>\n",
       "      <th>Impressions</th>\n",
       "      <th>Clicks</th>\n",
       "      <th>Signed_In</th>\n",
       "    </tr>\n",
       "  </thead>\n",
       "  <tbody>\n",
       "    <tr>\n",
       "      <th>0</th>\n",
       "      <td> 36</td>\n",
       "      <td> female</td>\n",
       "      <td>  3</td>\n",
       "      <td> 0</td>\n",
       "      <td> 1</td>\n",
       "    </tr>\n",
       "    <tr>\n",
       "      <th>1</th>\n",
       "      <td> 73</td>\n",
       "      <td>   male</td>\n",
       "      <td>  3</td>\n",
       "      <td> 0</td>\n",
       "      <td> 1</td>\n",
       "    </tr>\n",
       "    <tr>\n",
       "      <th>2</th>\n",
       "      <td> 30</td>\n",
       "      <td> female</td>\n",
       "      <td>  3</td>\n",
       "      <td> 0</td>\n",
       "      <td> 1</td>\n",
       "    </tr>\n",
       "    <tr>\n",
       "      <th>3</th>\n",
       "      <td> 49</td>\n",
       "      <td>   male</td>\n",
       "      <td>  3</td>\n",
       "      <td> 0</td>\n",
       "      <td> 1</td>\n",
       "    </tr>\n",
       "    <tr>\n",
       "      <th>4</th>\n",
       "      <td> 47</td>\n",
       "      <td>   male</td>\n",
       "      <td> 11</td>\n",
       "      <td> 0</td>\n",
       "      <td> 1</td>\n",
       "    </tr>\n",
       "    <tr>\n",
       "      <th>5</th>\n",
       "      <td> 47</td>\n",
       "      <td> female</td>\n",
       "      <td> 11</td>\n",
       "      <td> 1</td>\n",
       "      <td> 1</td>\n",
       "    </tr>\n",
       "    <tr>\n",
       "      <th>6</th>\n",
       "      <td>  0</td>\n",
       "      <td> female</td>\n",
       "      <td>  7</td>\n",
       "      <td> 1</td>\n",
       "      <td> 0</td>\n",
       "    </tr>\n",
       "    <tr>\n",
       "      <th>7</th>\n",
       "      <td> 46</td>\n",
       "      <td> female</td>\n",
       "      <td>  5</td>\n",
       "      <td> 0</td>\n",
       "      <td> 1</td>\n",
       "    </tr>\n",
       "    <tr>\n",
       "      <th>8</th>\n",
       "      <td> 16</td>\n",
       "      <td> female</td>\n",
       "      <td>  3</td>\n",
       "      <td> 0</td>\n",
       "      <td> 1</td>\n",
       "    </tr>\n",
       "    <tr>\n",
       "      <th>9</th>\n",
       "      <td> 52</td>\n",
       "      <td> female</td>\n",
       "      <td>  4</td>\n",
       "      <td> 0</td>\n",
       "      <td> 1</td>\n",
       "    </tr>\n",
       "  </tbody>\n",
       "</table>\n",
       "</div>"
      ],
      "text/plain": [
       "   Age  Gender  Impressions  Clicks  Signed_In\n",
       "0   36  female            3       0          1\n",
       "1   73    male            3       0          1\n",
       "2   30  female            3       0          1\n",
       "3   49    male            3       0          1\n",
       "4   47    male           11       0          1\n",
       "5   47  female           11       1          1\n",
       "6    0  female            7       1          0\n",
       "7   46  female            5       0          1\n",
       "8   16  female            3       0          1\n",
       "9   52  female            4       0          1"
      ]
     },
     "execution_count": 12,
     "metadata": {},
     "output_type": "execute_result"
    }
   ],
   "source": [
    "df.head(10)"
   ]
  },
  {
   "cell_type": "markdown",
   "metadata": {},
   "source": [
    "## Categorize by Age"
   ]
  },
  {
   "cell_type": "markdown",
   "metadata": {},
   "source": [
    "Want to categorize by age `<18, 18-24, 25-34, 35-44, 45-54, 55-64, +65`.\n",
    "\n",
    "Create bins and labels and use `pd.cut` with `right=False` to not include rightmost edge."
   ]
  },
  {
   "cell_type": "code",
   "execution_count": 13,
   "metadata": {
    "collapsed": false
   },
   "outputs": [],
   "source": [
    "age_range = [0, 19, 25, 35, 45, 55, 65, np.inf]\n",
    "age_labels = ['18--', '18-24', '25-34', '35-44', '45-54', '55-64', '65++']"
   ]
  },
  {
   "cell_type": "code",
   "execution_count": 14,
   "metadata": {
    "collapsed": false
   },
   "outputs": [
    {
     "data": {
      "text/plain": [
       "0     35-44\n",
       "1      65++\n",
       "2     25-34\n",
       "3     45-54\n",
       "4     45-54\n",
       "5     45-54\n",
       "6      18--\n",
       "7     45-54\n",
       "8      18--\n",
       "9     45-54\n",
       "10     18--\n",
       "11    18-24\n",
       "12     18--\n",
       "13    55-64\n",
       "14    25-34\n",
       "...\n",
       "458426    45-54\n",
       "458427    35-44\n",
       "458428    35-44\n",
       "458429    45-54\n",
       "458430     18--\n",
       "458431    18-24\n",
       "458432    25-34\n",
       "458433    18-24\n",
       "458434    55-64\n",
       "458435    45-54\n",
       "458436     18--\n",
       "458437     18--\n",
       "458438     65++\n",
       "458439     18--\n",
       "458440     18--\n",
       "Name: Age, Length: 458441, dtype: category\n",
       "Categories (7, object): [18-- < 18-24 < 25-34 < 35-44 < 45-54 < 55-64 < 65++]"
      ]
     },
     "execution_count": 14,
     "metadata": {},
     "output_type": "execute_result"
    }
   ],
   "source": [
    "pd.cut(df['Age'], bins=age_range, right=False, labels=age_labels)"
   ]
  },
  {
   "cell_type": "markdown",
   "metadata": {},
   "source": [
    "Put this into a new columns."
   ]
  },
  {
   "cell_type": "code",
   "execution_count": 15,
   "metadata": {
    "collapsed": false
   },
   "outputs": [],
   "source": [
    "df['Age_group'] = pd.cut(df['Age'], bins=age_range, right=False, labels=age_labels)"
   ]
  },
  {
   "cell_type": "code",
   "execution_count": 16,
   "metadata": {
    "collapsed": false
   },
   "outputs": [
    {
     "data": {
      "text/html": [
       "<div style=\"max-height:1000px;max-width:1500px;overflow:auto;\">\n",
       "<table border=\"1\" class=\"dataframe\">\n",
       "  <thead>\n",
       "    <tr style=\"text-align: right;\">\n",
       "      <th></th>\n",
       "      <th>Age</th>\n",
       "      <th>Gender</th>\n",
       "      <th>Impressions</th>\n",
       "      <th>Clicks</th>\n",
       "      <th>Signed_In</th>\n",
       "      <th>Age_group</th>\n",
       "    </tr>\n",
       "  </thead>\n",
       "  <tbody>\n",
       "    <tr>\n",
       "      <th>0</th>\n",
       "      <td> 36</td>\n",
       "      <td> female</td>\n",
       "      <td>  3</td>\n",
       "      <td> 0</td>\n",
       "      <td> 1</td>\n",
       "      <td> 35-44</td>\n",
       "    </tr>\n",
       "    <tr>\n",
       "      <th>1</th>\n",
       "      <td> 73</td>\n",
       "      <td>   male</td>\n",
       "      <td>  3</td>\n",
       "      <td> 0</td>\n",
       "      <td> 1</td>\n",
       "      <td>  65++</td>\n",
       "    </tr>\n",
       "    <tr>\n",
       "      <th>2</th>\n",
       "      <td> 30</td>\n",
       "      <td> female</td>\n",
       "      <td>  3</td>\n",
       "      <td> 0</td>\n",
       "      <td> 1</td>\n",
       "      <td> 25-34</td>\n",
       "    </tr>\n",
       "    <tr>\n",
       "      <th>3</th>\n",
       "      <td> 49</td>\n",
       "      <td>   male</td>\n",
       "      <td>  3</td>\n",
       "      <td> 0</td>\n",
       "      <td> 1</td>\n",
       "      <td> 45-54</td>\n",
       "    </tr>\n",
       "    <tr>\n",
       "      <th>4</th>\n",
       "      <td> 47</td>\n",
       "      <td>   male</td>\n",
       "      <td> 11</td>\n",
       "      <td> 0</td>\n",
       "      <td> 1</td>\n",
       "      <td> 45-54</td>\n",
       "    </tr>\n",
       "    <tr>\n",
       "      <th>5</th>\n",
       "      <td> 47</td>\n",
       "      <td> female</td>\n",
       "      <td> 11</td>\n",
       "      <td> 1</td>\n",
       "      <td> 1</td>\n",
       "      <td> 45-54</td>\n",
       "    </tr>\n",
       "    <tr>\n",
       "      <th>6</th>\n",
       "      <td>  0</td>\n",
       "      <td> female</td>\n",
       "      <td>  7</td>\n",
       "      <td> 1</td>\n",
       "      <td> 0</td>\n",
       "      <td>  18--</td>\n",
       "    </tr>\n",
       "    <tr>\n",
       "      <th>7</th>\n",
       "      <td> 46</td>\n",
       "      <td> female</td>\n",
       "      <td>  5</td>\n",
       "      <td> 0</td>\n",
       "      <td> 1</td>\n",
       "      <td> 45-54</td>\n",
       "    </tr>\n",
       "    <tr>\n",
       "      <th>8</th>\n",
       "      <td> 16</td>\n",
       "      <td> female</td>\n",
       "      <td>  3</td>\n",
       "      <td> 0</td>\n",
       "      <td> 1</td>\n",
       "      <td>  18--</td>\n",
       "    </tr>\n",
       "    <tr>\n",
       "      <th>9</th>\n",
       "      <td> 52</td>\n",
       "      <td> female</td>\n",
       "      <td>  4</td>\n",
       "      <td> 0</td>\n",
       "      <td> 1</td>\n",
       "      <td> 45-54</td>\n",
       "    </tr>\n",
       "  </tbody>\n",
       "</table>\n",
       "</div>"
      ],
      "text/plain": [
       "   Age  Gender  Impressions  Clicks  Signed_In Age_group\n",
       "0   36  female            3       0          1     35-44\n",
       "1   73    male            3       0          1      65++\n",
       "2   30  female            3       0          1     25-34\n",
       "3   49    male            3       0          1     45-54\n",
       "4   47    male           11       0          1     45-54\n",
       "5   47  female           11       1          1     45-54\n",
       "6    0  female            7       1          0      18--\n",
       "7   46  female            5       0          1     45-54\n",
       "8   16  female            3       0          1      18--\n",
       "9   52  female            4       0          1     45-54"
      ]
     },
     "execution_count": 16,
     "metadata": {},
     "output_type": "execute_result"
    }
   ],
   "source": [
    "df.head(10)"
   ]
  },
  {
   "cell_type": "markdown",
   "metadata": {},
   "source": [
    "## Click-through-rate aka CRT by age categories\n",
    "\n",
    "Impressions and click-rate distributions according to this age category."
   ]
  },
  {
   "cell_type": "markdown",
   "metadata": {},
   "source": [
    "Let's group data by this `Age_group` just for the impressions and clicks columns and count the number of each.\n",
    "\n",
    "Simple use the `groupby` function to the column `Age_group`."
   ]
  },
  {
   "cell_type": "code",
   "execution_count": 17,
   "metadata": {
    "collapsed": false
   },
   "outputs": [
    {
     "data": {
      "text/html": [
       "<div style=\"max-height:1000px;max-width:1500px;overflow:auto;\">\n",
       "<table border=\"1\" class=\"dataframe\">\n",
       "  <thead>\n",
       "    <tr style=\"text-align: right;\">\n",
       "      <th></th>\n",
       "      <th>Impressions</th>\n",
       "      <th>Clicks</th>\n",
       "    </tr>\n",
       "    <tr>\n",
       "      <th>Age_group</th>\n",
       "      <th></th>\n",
       "      <th></th>\n",
       "    </tr>\n",
       "  </thead>\n",
       "  <tbody>\n",
       "    <tr>\n",
       "      <th>18--</th>\n",
       "      <td> 781723</td>\n",
       "      <td> 22003</td>\n",
       "    </tr>\n",
       "    <tr>\n",
       "      <th>18-24</th>\n",
       "      <td> 176584</td>\n",
       "      <td>  1709</td>\n",
       "    </tr>\n",
       "    <tr>\n",
       "      <th>25-34</th>\n",
       "      <td> 290511</td>\n",
       "      <td>  2937</td>\n",
       "    </tr>\n",
       "    <tr>\n",
       "      <th>35-44</th>\n",
       "      <td> 355824</td>\n",
       "      <td>  3662</td>\n",
       "    </tr>\n",
       "    <tr>\n",
       "      <th>45-54</th>\n",
       "      <td> 322109</td>\n",
       "      <td>  3232</td>\n",
       "    </tr>\n",
       "    <tr>\n",
       "      <th>55-64</th>\n",
       "      <td> 224688</td>\n",
       "      <td>  4556</td>\n",
       "    </tr>\n",
       "    <tr>\n",
       "      <th>65++</th>\n",
       "      <td> 144120</td>\n",
       "      <td>  4350</td>\n",
       "    </tr>\n",
       "  </tbody>\n",
       "</table>\n",
       "</div>"
      ],
      "text/plain": [
       "           Impressions  Clicks\n",
       "Age_group                     \n",
       "18--            781723   22003\n",
       "18-24           176584    1709\n",
       "25-34           290511    2937\n",
       "35-44           355824    3662\n",
       "45-54           322109    3232\n",
       "55-64           224688    4556\n",
       "65++            144120    4350"
      ]
     },
     "execution_count": 17,
     "metadata": {},
     "output_type": "execute_result"
    }
   ],
   "source": [
    "df.groupby('Age_group')[['Impressions', 'Clicks']].sum()"
   ]
  },
  {
   "cell_type": "markdown",
   "metadata": {},
   "source": [
    "Here we are ! I count the number of values for each category for the two columns. Compute the CTR (click-through-rate, i.e. `clicks/impression`) and let's plot some stuff."
   ]
  },
  {
   "cell_type": "markdown",
   "metadata": {},
   "source": [
    "Some stats about age population categorizes by the age group."
   ]
  },
  {
   "cell_type": "code",
   "execution_count": 18,
   "metadata": {
    "collapsed": false
   },
   "outputs": [
    {
     "data": {
      "text/html": [
       "<div style=\"max-height:1000px;max-width:1500px;overflow:auto;\">\n",
       "<table border=\"1\" class=\"dataframe\">\n",
       "  <thead>\n",
       "    <tr style=\"text-align: right;\">\n",
       "      <th></th>\n",
       "      <th>len</th>\n",
       "      <th>amin</th>\n",
       "      <th>mean</th>\n",
       "      <th>amax</th>\n",
       "    </tr>\n",
       "    <tr>\n",
       "      <th>Age_group</th>\n",
       "      <th></th>\n",
       "      <th></th>\n",
       "      <th></th>\n",
       "      <th></th>\n",
       "    </tr>\n",
       "  </thead>\n",
       "  <tbody>\n",
       "    <tr>\n",
       "      <th>18--</th>\n",
       "      <td> 156358</td>\n",
       "      <td>  0</td>\n",
       "      <td>  1.974168</td>\n",
       "      <td>  18</td>\n",
       "    </tr>\n",
       "    <tr>\n",
       "      <th>18-24</th>\n",
       "      <td>  35270</td>\n",
       "      <td> 19</td>\n",
       "      <td> 21.269039</td>\n",
       "      <td>  24</td>\n",
       "    </tr>\n",
       "    <tr>\n",
       "      <th>25-34</th>\n",
       "      <td>  58174</td>\n",
       "      <td> 25</td>\n",
       "      <td> 29.503352</td>\n",
       "      <td>  34</td>\n",
       "    </tr>\n",
       "    <tr>\n",
       "      <th>35-44</th>\n",
       "      <td>  70860</td>\n",
       "      <td> 35</td>\n",
       "      <td> 39.494680</td>\n",
       "      <td>  44</td>\n",
       "    </tr>\n",
       "    <tr>\n",
       "      <th>45-54</th>\n",
       "      <td>  64288</td>\n",
       "      <td> 45</td>\n",
       "      <td> 49.492580</td>\n",
       "      <td>  54</td>\n",
       "    </tr>\n",
       "    <tr>\n",
       "      <th>55-64</th>\n",
       "      <td>  44738</td>\n",
       "      <td> 55</td>\n",
       "      <td> 59.498189</td>\n",
       "      <td>  64</td>\n",
       "    </tr>\n",
       "    <tr>\n",
       "      <th>65++</th>\n",
       "      <td>  28753</td>\n",
       "      <td> 65</td>\n",
       "      <td> 72.988697</td>\n",
       "      <td> 108</td>\n",
       "    </tr>\n",
       "  </tbody>\n",
       "</table>\n",
       "</div>"
      ],
      "text/plain": [
       "              len  amin       mean  amax\n",
       "Age_group                               \n",
       "18--       156358     0   1.974168    18\n",
       "18-24       35270    19  21.269039    24\n",
       "25-34       58174    25  29.503352    34\n",
       "35-44       70860    35  39.494680    44\n",
       "45-54       64288    45  49.492580    54\n",
       "55-64       44738    55  59.498189    64\n",
       "65++        28753    65  72.988697   108"
      ]
     },
     "execution_count": 18,
     "metadata": {},
     "output_type": "execute_result"
    }
   ],
   "source": [
    "df.groupby('Age_group')['Age'].agg([len,  np.min, np.mean, np.max])"
   ]
  },
  {
   "cell_type": "markdown",
   "metadata": {},
   "source": [
    "I want to store *Impressions* and *Clicks* numbers for each age group."
   ]
  },
  {
   "cell_type": "code",
   "execution_count": 19,
   "metadata": {
    "collapsed": false
   },
   "outputs": [],
   "source": [
    "grouped = df.groupby(\"Age_group\")[['Impressions', 'Clicks']]"
   ]
  },
  {
   "cell_type": "code",
   "execution_count": 20,
   "metadata": {
    "collapsed": false
   },
   "outputs": [],
   "source": [
    "df_age_group = grouped.sum()"
   ]
  },
  {
   "cell_type": "code",
   "execution_count": 21,
   "metadata": {
    "collapsed": false
   },
   "outputs": [
    {
     "data": {
      "text/html": [
       "<div style=\"max-height:1000px;max-width:1500px;overflow:auto;\">\n",
       "<table border=\"1\" class=\"dataframe\">\n",
       "  <thead>\n",
       "    <tr style=\"text-align: right;\">\n",
       "      <th></th>\n",
       "      <th>Impressions</th>\n",
       "      <th>Clicks</th>\n",
       "    </tr>\n",
       "    <tr>\n",
       "      <th>Age_group</th>\n",
       "      <th></th>\n",
       "      <th></th>\n",
       "    </tr>\n",
       "  </thead>\n",
       "  <tbody>\n",
       "    <tr>\n",
       "      <th>18--</th>\n",
       "      <td> 781723</td>\n",
       "      <td> 22003</td>\n",
       "    </tr>\n",
       "    <tr>\n",
       "      <th>18-24</th>\n",
       "      <td> 176584</td>\n",
       "      <td>  1709</td>\n",
       "    </tr>\n",
       "    <tr>\n",
       "      <th>25-34</th>\n",
       "      <td> 290511</td>\n",
       "      <td>  2937</td>\n",
       "    </tr>\n",
       "    <tr>\n",
       "      <th>35-44</th>\n",
       "      <td> 355824</td>\n",
       "      <td>  3662</td>\n",
       "    </tr>\n",
       "    <tr>\n",
       "      <th>45-54</th>\n",
       "      <td> 322109</td>\n",
       "      <td>  3232</td>\n",
       "    </tr>\n",
       "  </tbody>\n",
       "</table>\n",
       "</div>"
      ],
      "text/plain": [
       "           Impressions  Clicks\n",
       "Age_group                     \n",
       "18--            781723   22003\n",
       "18-24           176584    1709\n",
       "25-34           290511    2937\n",
       "35-44           355824    3662\n",
       "45-54           322109    3232"
      ]
     },
     "execution_count": 21,
     "metadata": {},
     "output_type": "execute_result"
    }
   ],
   "source": [
    "df_age_group.head()"
   ]
  },
  {
   "cell_type": "markdown",
   "metadata": {},
   "source": [
    "You can also call different aggregation functions such as `max`, `mean` or `sum`"
   ]
  },
  {
   "cell_type": "code",
   "execution_count": 22,
   "metadata": {
    "collapsed": false
   },
   "outputs": [],
   "source": [
    "age_stat = grouped.agg([len, np.mean, np.max, np.sum])"
   ]
  },
  {
   "cell_type": "code",
   "execution_count": 23,
   "metadata": {
    "collapsed": false
   },
   "outputs": [
    {
     "data": {
      "text/html": [
       "<div style=\"max-height:1000px;max-width:1500px;overflow:auto;\">\n",
       "<table border=\"1\" class=\"dataframe\">\n",
       "  <thead>\n",
       "    <tr>\n",
       "      <th></th>\n",
       "      <th colspan=\"4\" halign=\"left\">Impressions</th>\n",
       "      <th colspan=\"4\" halign=\"left\">Clicks</th>\n",
       "    </tr>\n",
       "    <tr>\n",
       "      <th></th>\n",
       "      <th>len</th>\n",
       "      <th>mean</th>\n",
       "      <th>amax</th>\n",
       "      <th>sum</th>\n",
       "      <th>len</th>\n",
       "      <th>mean</th>\n",
       "      <th>amax</th>\n",
       "      <th>sum</th>\n",
       "    </tr>\n",
       "    <tr>\n",
       "      <th>Age_group</th>\n",
       "      <th></th>\n",
       "      <th></th>\n",
       "      <th></th>\n",
       "      <th></th>\n",
       "      <th></th>\n",
       "      <th></th>\n",
       "      <th></th>\n",
       "      <th></th>\n",
       "    </tr>\n",
       "  </thead>\n",
       "  <tbody>\n",
       "    <tr>\n",
       "      <th>18--</th>\n",
       "      <td> 156358</td>\n",
       "      <td> 4.999571</td>\n",
       "      <td> 18</td>\n",
       "      <td> 781723</td>\n",
       "      <td> 156358</td>\n",
       "      <td> 0.140722</td>\n",
       "      <td> 4</td>\n",
       "      <td> 22003</td>\n",
       "    </tr>\n",
       "    <tr>\n",
       "      <th>18-24</th>\n",
       "      <td>  35270</td>\n",
       "      <td> 5.006635</td>\n",
       "      <td> 17</td>\n",
       "      <td> 176584</td>\n",
       "      <td>  35270</td>\n",
       "      <td> 0.048455</td>\n",
       "      <td> 2</td>\n",
       "      <td>  1709</td>\n",
       "    </tr>\n",
       "    <tr>\n",
       "      <th>25-34</th>\n",
       "      <td>  58174</td>\n",
       "      <td> 4.993829</td>\n",
       "      <td> 17</td>\n",
       "      <td> 290511</td>\n",
       "      <td>  58174</td>\n",
       "      <td> 0.050486</td>\n",
       "      <td> 2</td>\n",
       "      <td>  2937</td>\n",
       "    </tr>\n",
       "    <tr>\n",
       "      <th>35-44</th>\n",
       "      <td>  70860</td>\n",
       "      <td> 5.021507</td>\n",
       "      <td> 20</td>\n",
       "      <td> 355824</td>\n",
       "      <td>  70860</td>\n",
       "      <td> 0.051679</td>\n",
       "      <td> 3</td>\n",
       "      <td>  3662</td>\n",
       "    </tr>\n",
       "    <tr>\n",
       "      <th>45-54</th>\n",
       "      <td>  64288</td>\n",
       "      <td> 5.010406</td>\n",
       "      <td> 17</td>\n",
       "      <td> 322109</td>\n",
       "      <td>  64288</td>\n",
       "      <td> 0.050274</td>\n",
       "      <td> 2</td>\n",
       "      <td>  3232</td>\n",
       "    </tr>\n",
       "    <tr>\n",
       "      <th>55-64</th>\n",
       "      <td>  44738</td>\n",
       "      <td> 5.022308</td>\n",
       "      <td> 16</td>\n",
       "      <td> 224688</td>\n",
       "      <td>  44738</td>\n",
       "      <td> 0.101837</td>\n",
       "      <td> 3</td>\n",
       "      <td>  4556</td>\n",
       "    </tr>\n",
       "    <tr>\n",
       "      <th>65++</th>\n",
       "      <td>  28753</td>\n",
       "      <td> 5.012347</td>\n",
       "      <td> 16</td>\n",
       "      <td> 144120</td>\n",
       "      <td>  28753</td>\n",
       "      <td> 0.151289</td>\n",
       "      <td> 3</td>\n",
       "      <td>  4350</td>\n",
       "    </tr>\n",
       "  </tbody>\n",
       "</table>\n",
       "</div>"
      ],
      "text/plain": [
       "          Impressions                         Clicks                      \n",
       "                  len      mean amax     sum     len      mean amax    sum\n",
       "Age_group                                                                 \n",
       "18--           156358  4.999571   18  781723  156358  0.140722    4  22003\n",
       "18-24           35270  5.006635   17  176584   35270  0.048455    2   1709\n",
       "25-34           58174  4.993829   17  290511   58174  0.050486    2   2937\n",
       "35-44           70860  5.021507   20  355824   70860  0.051679    3   3662\n",
       "45-54           64288  5.010406   17  322109   64288  0.050274    2   3232\n",
       "55-64           44738  5.022308   16  224688   44738  0.101837    3   4556\n",
       "65++            28753  5.012347   16  144120   28753  0.151289    3   4350"
      ]
     },
     "execution_count": 23,
     "metadata": {},
     "output_type": "execute_result"
    }
   ],
   "source": [
    "age_stat"
   ]
  },
  {
   "cell_type": "markdown",
   "metadata": {},
   "source": [
    "Compute the click rate."
   ]
  },
  {
   "cell_type": "code",
   "execution_count": 24,
   "metadata": {
    "collapsed": false
   },
   "outputs": [],
   "source": [
    "df_age_group['CTR'] = df_age_group['Clicks'] / df_age_group['Impressions']"
   ]
  },
  {
   "cell_type": "markdown",
   "metadata": {},
   "source": [
    "Plotting some data."
   ]
  },
  {
   "cell_type": "code",
   "execution_count": 42,
   "metadata": {
    "collapsed": true
   },
   "outputs": [],
   "source": [
    "import seaborn"
   ]
  },
  {
   "cell_type": "code",
   "execution_count": 43,
   "metadata": {
    "collapsed": false
   },
   "outputs": [
    {
     "data": {
      "text/plain": [
       "array([<matplotlib.axes._subplots.AxesSubplot object at 0x7fde930c0150>,\n",
       "       <matplotlib.axes._subplots.AxesSubplot object at 0x7fde9303e210>], dtype=object)"
      ]
     },
     "execution_count": 43,
     "metadata": {},
     "output_type": "execute_result"
    },
    {
     "data": {
      "image/png": "[encoded data removed]",
      "text/plain": [
       "<matplotlib.figure.Figure at 0x7fde93333ad0>"
      ]
     },
     "metadata": {},
     "output_type": "display_data"
    }
   ],
   "source": [
    "df_age_group[['Impressions', 'CTR']].plot(kind='bar', subplots=True)"
   ]
  },
  {
   "cell_type": "markdown",
   "metadata": {},
   "source": [
    "## New Category based on the Click Behavior\n",
    "\n",
    "You can split the population into two new categories:\n",
    "\n",
    "  - impressions and no click\n",
    "  - impressions and one click\n",
    "  \n",
    "You can assume that there isn't click when impression is equalt to zero. For that, you can just drop all rows where `Impressions` is 0. Group be 'Clicks' and see what you get."
   ]
  },
  {
   "cell_type": "markdown",
   "metadata": {},
   "source": [
    "Drop rows according to `Impresssions` values."
   ]
  },
  {
   "cell_type": "code",
   "execution_count": 26,
   "metadata": {
    "collapsed": false
   },
   "outputs": [],
   "source": [
    "mask_imp = df['Impressions'] > 0"
   ]
  },
  {
   "cell_type": "code",
   "execution_count": 27,
   "metadata": {
    "collapsed": false
   },
   "outputs": [
    {
     "data": {
      "text/plain": [
       "(458441,)"
      ]
     },
     "execution_count": 27,
     "metadata": {},
     "output_type": "execute_result"
    }
   ],
   "source": [
    "mask_imp.shape"
   ]
  },
  {
   "cell_type": "code",
   "execution_count": 28,
   "metadata": {
    "collapsed": false
   },
   "outputs": [],
   "source": [
    "df = df[mask_imp]"
   ]
  },
  {
   "cell_type": "code",
   "execution_count": 29,
   "metadata": {
    "collapsed": false
   },
   "outputs": [
    {
     "data": {
      "text/plain": [
       "(455375, 6)"
      ]
     },
     "execution_count": 29,
     "metadata": {},
     "output_type": "execute_result"
    }
   ],
   "source": [
    "df.shape"
   ]
  },
  {
   "cell_type": "code",
   "execution_count": 30,
   "metadata": {
    "collapsed": false
   },
   "outputs": [
    {
     "name": "stdout",
     "output_type": "stream",
     "text": [
      "Drop 3066 values\n"
     ]
    }
   ],
   "source": [
    "print(\"Drop {} values\".format(mask_imp.shape[0] - df.shape[0]))"
   ]
  },
  {
   "cell_type": "markdown",
   "metadata": {},
   "source": [
    "Group by **Clicks**."
   ]
  },
  {
   "cell_type": "code",
   "execution_count": 31,
   "metadata": {
    "collapsed": false
   },
   "outputs": [],
   "source": [
    "click_group = df.groupby('Clicks')"
   ]
  },
  {
   "cell_type": "markdown",
   "metadata": {},
   "source": [
    "Check the number of different Clicks values."
   ]
  },
  {
   "cell_type": "code",
   "execution_count": 32,
   "metadata": {
    "collapsed": false
   },
   "outputs": [
    {
     "data": {
      "text/plain": [
       "[0, 1, 2, 3, 4]"
      ]
     },
     "execution_count": 32,
     "metadata": {},
     "output_type": "execute_result"
    }
   ],
   "source": [
    "click_group.groups.keys()"
   ]
  },
  {
   "cell_type": "markdown",
   "metadata": {},
   "source": [
    "OK, you can see, sometimes, there is one more than one click."
   ]
  },
  {
   "cell_type": "markdown",
   "metadata": {},
   "source": [
    "You can count the number of elements in each group."
   ]
  },
  {
   "cell_type": "code",
   "execution_count": 33,
   "metadata": {
    "collapsed": false
   },
   "outputs": [
    {
     "data": {
      "text/plain": [
       "Clicks\n",
       "0         415537\n",
       "1          37372\n",
       "2           2330\n",
       "3            127\n",
       "4              9\n",
       "Name: Gender, dtype: int64"
      ]
     },
     "execution_count": 33,
     "metadata": {},
     "output_type": "execute_result"
    }
   ],
   "source": [
    "click_group[\"Gender\"].count()"
   ]
  },
  {
   "cell_type": "markdown",
   "metadata": {},
   "source": [
    "Here, I counted the number of elements for the column \"Gender\". It's quite arbitrary because you have the same values for each column."
   ]
  },
  {
   "cell_type": "markdown",
   "metadata": {},
   "source": [
    "Add a column `has_click` and set `True` if there is more than one click, `False` otherwise."
   ]
  },
  {
   "cell_type": "code",
   "execution_count": 36,
   "metadata": {
    "collapsed": false
   },
   "outputs": [
    {
     "name": "stderr",
     "output_type": "stream",
     "text": [
      "/home/dag/code/ipython/build/lib.linux-x86_64-2.7/IPython/kernel/__main__.py:1: SettingWithCopyWarning: \n",
      "A value is trying to be set on a copy of a slice from a DataFrame.\n",
      "Try using .loc[row_indexer,col_indexer] = value instead\n",
      "\n",
      "See the the caveats in the documentation: http://pandas.pydata.org/pandas-docs/stable/indexing.html#indexing-view-versus-copy\n",
      "  if __name__ == '__main__':\n"
     ]
    }
   ],
   "source": [
    "df['has_click'] = df['Clicks'].apply(lambda x: x > 0)"
   ]
  },
  {
   "cell_type": "code",
   "execution_count": 37,
   "metadata": {
    "collapsed": false
   },
   "outputs": [
    {
     "data": {
      "text/html": [
       "<div style=\"max-height:1000px;max-width:1500px;overflow:auto;\">\n",
       "<table border=\"1\" class=\"dataframe\">\n",
       "  <thead>\n",
       "    <tr style=\"text-align: right;\">\n",
       "      <th></th>\n",
       "      <th>Age</th>\n",
       "      <th>Gender</th>\n",
       "      <th>Impressions</th>\n",
       "      <th>Clicks</th>\n",
       "      <th>Signed_In</th>\n",
       "      <th>Age_group</th>\n",
       "      <th>has_click</th>\n",
       "    </tr>\n",
       "  </thead>\n",
       "  <tbody>\n",
       "    <tr>\n",
       "      <th>0</th>\n",
       "      <td> 36</td>\n",
       "      <td> female</td>\n",
       "      <td>  3</td>\n",
       "      <td> 0</td>\n",
       "      <td> 1</td>\n",
       "      <td> 35-44</td>\n",
       "      <td> False</td>\n",
       "    </tr>\n",
       "    <tr>\n",
       "      <th>1</th>\n",
       "      <td> 73</td>\n",
       "      <td>   male</td>\n",
       "      <td>  3</td>\n",
       "      <td> 0</td>\n",
       "      <td> 1</td>\n",
       "      <td>  65++</td>\n",
       "      <td> False</td>\n",
       "    </tr>\n",
       "    <tr>\n",
       "      <th>2</th>\n",
       "      <td> 30</td>\n",
       "      <td> female</td>\n",
       "      <td>  3</td>\n",
       "      <td> 0</td>\n",
       "      <td> 1</td>\n",
       "      <td> 25-34</td>\n",
       "      <td> False</td>\n",
       "    </tr>\n",
       "    <tr>\n",
       "      <th>3</th>\n",
       "      <td> 49</td>\n",
       "      <td>   male</td>\n",
       "      <td>  3</td>\n",
       "      <td> 0</td>\n",
       "      <td> 1</td>\n",
       "      <td> 45-54</td>\n",
       "      <td> False</td>\n",
       "    </tr>\n",
       "    <tr>\n",
       "      <th>4</th>\n",
       "      <td> 47</td>\n",
       "      <td>   male</td>\n",
       "      <td> 11</td>\n",
       "      <td> 0</td>\n",
       "      <td> 1</td>\n",
       "      <td> 45-54</td>\n",
       "      <td> False</td>\n",
       "    </tr>\n",
       "  </tbody>\n",
       "</table>\n",
       "</div>"
      ],
      "text/plain": [
       "   Age  Gender  Impressions  Clicks  Signed_In Age_group has_click\n",
       "0   36  female            3       0          1     35-44     False\n",
       "1   73    male            3       0          1      65++     False\n",
       "2   30  female            3       0          1     25-34     False\n",
       "3   49    male            3       0          1     45-54     False\n",
       "4   47    male           11       0          1     45-54     False"
      ]
     },
     "execution_count": 37,
     "metadata": {},
     "output_type": "execute_result"
    }
   ],
   "source": [
    "df.head()"
   ]
  },
  {
   "cell_type": "markdown",
   "metadata": {},
   "source": [
    "You can continue to play with `groupby` with one label or multiple labels."
   ]
  },
  {
   "cell_type": "markdown",
   "metadata": {},
   "source": [
    "Maybe you want to know the \"click\" behavior according to the gender AND the Age category"
   ]
  },
  {
   "cell_type": "code",
   "execution_count": 38,
   "metadata": {
    "collapsed": false
   },
   "outputs": [],
   "source": [
    "click_gender_age_grp = df.groupby(['has_click', 'Gender', 'Age_group'])[[\"Impressions\", \"Clicks\"]].sum().unstack()"
   ]
  },
  {
   "cell_type": "code",
   "execution_count": 39,
   "metadata": {
    "collapsed": false
   },
   "outputs": [
    {
     "data": {
      "text/html": [
       "<div style=\"max-height:1000px;max-width:1500px;overflow:auto;\">\n",
       "<table border=\"1\" class=\"dataframe\">\n",
       "  <thead>\n",
       "    <tr>\n",
       "      <th></th>\n",
       "      <th></th>\n",
       "      <th colspan=\"7\" halign=\"left\">Impressions</th>\n",
       "      <th colspan=\"7\" halign=\"left\">Clicks</th>\n",
       "    </tr>\n",
       "    <tr>\n",
       "      <th></th>\n",
       "      <th>Age_group</th>\n",
       "      <th>18--</th>\n",
       "      <th>18-24</th>\n",
       "      <th>25-34</th>\n",
       "      <th>35-44</th>\n",
       "      <th>45-54</th>\n",
       "      <th>55-64</th>\n",
       "      <th>65++</th>\n",
       "      <th>18--</th>\n",
       "      <th>18-24</th>\n",
       "      <th>25-34</th>\n",
       "      <th>35-44</th>\n",
       "      <th>45-54</th>\n",
       "      <th>55-64</th>\n",
       "      <th>65++</th>\n",
       "    </tr>\n",
       "    <tr>\n",
       "      <th>has_click</th>\n",
       "      <th>Gender</th>\n",
       "      <th></th>\n",
       "      <th></th>\n",
       "      <th></th>\n",
       "      <th></th>\n",
       "      <th></th>\n",
       "      <th></th>\n",
       "      <th></th>\n",
       "      <th></th>\n",
       "      <th></th>\n",
       "      <th></th>\n",
       "      <th></th>\n",
       "      <th></th>\n",
       "      <th></th>\n",
       "      <th></th>\n",
       "    </tr>\n",
       "  </thead>\n",
       "  <tbody>\n",
       "    <tr>\n",
       "      <th rowspan=\"2\" valign=\"top\">False</th>\n",
       "      <th>female</th>\n",
       "      <td> 609712</td>\n",
       "      <td> 77711</td>\n",
       "      <td> 128230</td>\n",
       "      <td> 156280</td>\n",
       "      <td> 142708</td>\n",
       "      <td>  92237</td>\n",
       "      <td> 76350</td>\n",
       "      <td>     0</td>\n",
       "      <td>   0</td>\n",
       "      <td>    0</td>\n",
       "      <td>    0</td>\n",
       "      <td>    0</td>\n",
       "      <td>    0</td>\n",
       "      <td>    0</td>\n",
       "    </tr>\n",
       "    <tr>\n",
       "      <th>male</th>\n",
       "      <td>  52701</td>\n",
       "      <td> 88788</td>\n",
       "      <td> 145248</td>\n",
       "      <td> 177955</td>\n",
       "      <td> 160547</td>\n",
       "      <td> 106503</td>\n",
       "      <td> 43261</td>\n",
       "      <td>     0</td>\n",
       "      <td>   0</td>\n",
       "      <td>    0</td>\n",
       "      <td>    0</td>\n",
       "      <td>    0</td>\n",
       "      <td>    0</td>\n",
       "      <td>    0</td>\n",
       "    </tr>\n",
       "    <tr>\n",
       "      <th rowspan=\"2\" valign=\"top\">True </th>\n",
       "      <th>female</th>\n",
       "      <td> 110254</td>\n",
       "      <td>  4663</td>\n",
       "      <td>   8062</td>\n",
       "      <td>  10044</td>\n",
       "      <td>   8942</td>\n",
       "      <td>  11983</td>\n",
       "      <td> 15606</td>\n",
       "      <td> 20368</td>\n",
       "      <td> 797</td>\n",
       "      <td> 1388</td>\n",
       "      <td> 1707</td>\n",
       "      <td> 1542</td>\n",
       "      <td> 2105</td>\n",
       "      <td> 2765</td>\n",
       "    </tr>\n",
       "    <tr>\n",
       "      <th>male</th>\n",
       "      <td>   9056</td>\n",
       "      <td>  5422</td>\n",
       "      <td>   8971</td>\n",
       "      <td>  11545</td>\n",
       "      <td>   9912</td>\n",
       "      <td>  13965</td>\n",
       "      <td>  8903</td>\n",
       "      <td>  1635</td>\n",
       "      <td> 912</td>\n",
       "      <td> 1549</td>\n",
       "      <td> 1955</td>\n",
       "      <td> 1690</td>\n",
       "      <td> 2451</td>\n",
       "      <td> 1585</td>\n",
       "    </tr>\n",
       "  </tbody>\n",
       "</table>\n",
       "</div>"
      ],
      "text/plain": [
       "                 Impressions                                                \\\n",
       "Age_group               18--  18-24   25-34   35-44   45-54   55-64   65++   \n",
       "has_click Gender                                                             \n",
       "False     female      609712  77711  128230  156280  142708   92237  76350   \n",
       "          male         52701  88788  145248  177955  160547  106503  43261   \n",
       "True      female      110254   4663    8062   10044    8942   11983  15606   \n",
       "          male          9056   5422    8971   11545    9912   13965   8903   \n",
       "\n",
       "                 Clicks                                      \n",
       "Age_group          18-- 18-24 25-34 35-44 45-54 55-64  65++  \n",
       "has_click Gender                                             \n",
       "False     female      0     0     0     0     0     0     0  \n",
       "          male        0     0     0     0     0     0     0  \n",
       "True      female  20368   797  1388  1707  1542  2105  2765  \n",
       "          male     1635   912  1549  1955  1690  2451  1585  "
      ]
     },
     "execution_count": 39,
     "metadata": {},
     "output_type": "execute_result"
    }
   ],
   "source": [
    "click_gender_age_grp"
   ]
  },
  {
   "cell_type": "markdown",
   "metadata": {},
   "source": [
    "Of course, there no Clicks for the fow `has_click=False`."
   ]
  },
  {
   "cell_type": "markdown",
   "metadata": {},
   "source": [
    "Keep only `has_click=True` rows and compute the CTR."
   ]
  },
  {
   "cell_type": "code",
   "execution_count": 40,
   "metadata": {
    "collapsed": false
   },
   "outputs": [],
   "source": [
    "ctr_gender_age = click_gender_age_grp.ix[True][\"Clicks\"] / click_gender_age_grp.ix[True][\"Impressions\"]"
   ]
  },
  {
   "cell_type": "code",
   "execution_count": 41,
   "metadata": {
    "collapsed": false
   },
   "outputs": [
    {
     "data": {
      "text/html": [
       "<div style=\"max-height:1000px;max-width:1500px;overflow:auto;\">\n",
       "<table border=\"1\" class=\"dataframe\">\n",
       "  <thead>\n",
       "    <tr style=\"text-align: right;\">\n",
       "      <th>Age_group</th>\n",
       "      <th>18--</th>\n",
       "      <th>18-24</th>\n",
       "      <th>25-34</th>\n",
       "      <th>35-44</th>\n",
       "      <th>45-54</th>\n",
       "      <th>55-64</th>\n",
       "      <th>65++</th>\n",
       "    </tr>\n",
       "    <tr>\n",
       "      <th>Gender</th>\n",
       "      <th></th>\n",
       "      <th></th>\n",
       "      <th></th>\n",
       "      <th></th>\n",
       "      <th></th>\n",
       "      <th></th>\n",
       "      <th></th>\n",
       "    </tr>\n",
       "  </thead>\n",
       "  <tbody>\n",
       "    <tr>\n",
       "      <th>female</th>\n",
       "      <td> 0.184737</td>\n",
       "      <td> 0.170920</td>\n",
       "      <td> 0.172166</td>\n",
       "      <td> 0.169952</td>\n",
       "      <td> 0.172445</td>\n",
       "      <td> 0.175666</td>\n",
       "      <td> 0.177175</td>\n",
       "    </tr>\n",
       "    <tr>\n",
       "      <th>male</th>\n",
       "      <td> 0.180543</td>\n",
       "      <td> 0.168204</td>\n",
       "      <td> 0.172667</td>\n",
       "      <td> 0.169337</td>\n",
       "      <td> 0.170500</td>\n",
       "      <td> 0.175510</td>\n",
       "      <td> 0.178030</td>\n",
       "    </tr>\n",
       "  </tbody>\n",
       "</table>\n",
       "</div>"
      ],
      "text/plain": [
       "Age_group      18--     18-24     25-34     35-44     45-54     55-64  \\\n",
       "Gender                                                                  \n",
       "female     0.184737  0.170920  0.172166  0.169952  0.172445  0.175666   \n",
       "male       0.180543  0.168204  0.172667  0.169337  0.170500  0.175510   \n",
       "\n",
       "Age_group      65++  \n",
       "Gender               \n",
       "female     0.177175  \n",
       "male       0.178030  "
      ]
     },
     "execution_count": 41,
     "metadata": {},
     "output_type": "execute_result"
    }
   ],
   "source": [
    "ctr_gender_age"
   ]
  },
  {
   "cell_type": "markdown",
   "metadata": {},
   "source": [
    "CRT values for each age category between male and female are quite similar."
   ]
  }
 ],
 "metadata": {
  "kernelspec": {
   "display_name": "Python 2",
   "language": "python",
   "name": "python2"
  },
  "language_info": {
   "codemirror_mode": {
    "name": "ipython",
    "version": 2
   },
   "file_extension": ".py",
   "mimetype": "text/x-python",
   "name": "python",
   "nbconvert_exporter": "python",
   "pygments_lexer": "ipython2",
   "version": "2.7.9"
  }
 },
 "nbformat": 4,
 "nbformat_minor": 0
}
